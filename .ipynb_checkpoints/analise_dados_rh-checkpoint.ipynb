{
 "cells": [
  {
   "cell_type": "markdown",
   "id": "46fb6a43",
   "metadata": {},
   "source": [
    "# Análise de dados de RH\n",
    "\n",
    "\n",
    "### Objetivo da Análise:\n",
    "\n",
    "Realizar um trabalho de análise nos dados, compreender como estão organizados, realizar limpeza e transformação dos dados conforme necessário, detectar eventuais padrões e diagnósticos e ao final emitir um parecer com um resumo sobre os dados.\n",
    "\n",
    "### Fonte de Dados:\n",
    "\n",
    "Foi usado como fonte de dados o dataset disponível para download no link abaixo.\n",
    "\n",
    "https://www.kaggle.com/datasets/arashnic/hr-analytics-job-change-of-data-scientists\n",
    "\n",
    "Este conjunto de dados foi desenvolvido para entender os fatores que levam uma pessoa a deixar o emprego atual. O objetivo do dataset é exatamente fazer pesquisas de RH.\n",
    "\n",
    "### Dicionários de Dados:\n",
    "\n",
    "Features\n",
    "\n",
    "enrollee_id : ID exclusivo para candidato\n",
    "\n",
    "city: Código da cidade\n",
    "\n",
    "city_ development _index : Índice de desenvolvimento da cidade (escala)\n",
    "\n",
    "gender: Gênero do candidato\n",
    "\n",
    "relevent_experience: Experiência relevante do candidato\n",
    "\n",
    "enrolled_university: Tipo de curso universitário matriculado, se houver\n",
    "\n",
    "education_level: Nível de escolaridade do candidato\n",
    "\n",
    "major_discipline : Educação disciplina principal do candidato\n",
    "\n",
    "experience: Experiência total do candidato em anos\n",
    "\n",
    "company_size: Nº de funcionários na empresa do empregador atual\n",
    "\n",
    "company_type : Tipo de empregador atual\n",
    "\n",
    "lastnewjob: Diferença de anos entre o emprego anterior e o atual\n",
    "\n",
    "training_hours: horas de treinamento concluídas\n",
    "\n",
    "target: 0 – Não procura mudança de emprego, 1 – Procura uma mudança de emprego\n"
   ]
  },
  {
   "cell_type": "markdown",
   "id": "3160f559",
   "metadata": {},
   "source": [
    "## Instalando e Carregando os Pacotes"
   ]
  },
  {
   "cell_type": "code",
   "execution_count": 1,
   "id": "11c1f976",
   "metadata": {},
   "outputs": [],
   "source": [
    "!pip install -q -U watermark"
   ]
  },
  {
   "cell_type": "code",
   "execution_count": 2,
   "id": "14f7552b",
   "metadata": {},
   "outputs": [],
   "source": [
    "!pip install -q missingno"
   ]
  },
  {
   "cell_type": "code",
   "execution_count": 3,
   "id": "0f97c7d7",
   "metadata": {},
   "outputs": [],
   "source": [
    "!pip install -q category_encoders"
   ]
  },
  {
   "cell_type": "code",
   "execution_count": 4,
   "id": "c2f288e8",
   "metadata": {},
   "outputs": [],
   "source": [
    "!pip install -q plotly"
   ]
  },
  {
   "cell_type": "code",
   "execution_count": 5,
   "id": "3bda7387",
   "metadata": {},
   "outputs": [],
   "source": [
    "# Imports\n",
    "\n",
    "# Manipulação de dados\n",
    "import pandas as pd\n",
    "import numpy as np\n",
    "\n",
    "# Visualização\n",
    "import matplotlib.pyplot as plt\n",
    "import seaborn as sns\n",
    "import plotly.express as px\n",
    "import plotly.graph_objects as go\n",
    "from plotly.subplots import make_subplots\n",
    "import missingno\n",
    "\n",
    "# Estatística\n",
    "import scipy\n",
    "from scipy.stats import normaltest\n",
    "from scipy.stats import chi2_contingency\n",
    "\n",
    "# Engenharia de Atributos\n",
    "from sklearn.pipeline import Pipeline\n",
    "from sklearn.impute import SimpleImputer\n",
    "from sklearn.preprocessing import OneHotEncoder, LabelEncoder, OrdinalEncoder\n",
    "from sklearn.compose import ColumnTransformer\n",
    "import category_encoders as ce\n",
    "\n",
    "# Ignore Warning\n",
    "import sys\n",
    "import warnings\n",
    "if not sys.warnoptions:\n",
    "    warnings.simplefilter(\"ignore\")"
   ]
  },
  {
   "cell_type": "code",
   "execution_count": 6,
   "id": "96acb619",
   "metadata": {},
   "outputs": [
    {
     "name": "stdout",
     "output_type": "stream",
     "text": [
      "Author: Frederico\n",
      "\n",
      "seaborn          : 0.11.2\n",
      "plotly           : 5.6.0\n",
      "scipy            : 1.7.3\n",
      "numpy            : 1.21.5\n",
      "sys              : 3.9.12 (main, Apr  4 2022, 05:22:27) [MSC v.1916 64 bit (AMD64)]\n",
      "category_encoders: 2.5.0\n",
      "pandas           : 1.4.2\n",
      "missingno        : 0.5.1\n",
      "matplotlib       : 3.5.1\n",
      "\n"
     ]
    }
   ],
   "source": [
    "# Versões dos pacotes usados neste jupyter notebook\n",
    "%reload_ext watermark\n",
    "%watermark -a \"Frederico\" --iversions"
   ]
  },
  {
   "cell_type": "markdown",
   "id": "51b6c683",
   "metadata": {},
   "source": [
    "## Caregando os dados"
   ]
  },
  {
   "cell_type": "code",
   "execution_count": 7,
   "id": "5eb308c0",
   "metadata": {},
   "outputs": [],
   "source": [
    "# carrega o dataset\n",
    "\n",
    "df = pd.read_csv('dataset/aug_train.csv')"
   ]
  },
  {
   "cell_type": "code",
   "execution_count": 8,
   "id": "02276843",
   "metadata": {},
   "outputs": [
    {
     "name": "stdout",
     "output_type": "stream",
     "text": [
      "Esse dataset tem 19158 linhas e 14 colunas.\n"
     ]
    }
   ],
   "source": [
    "# tamanho do dataset\n",
    "# coluna = variavel, feature, atributos\n",
    "\n",
    "print(f'Esse dataset tem {df.shape[0]} linhas e {df.shape[1]} colunas.')"
   ]
  },
  {
   "cell_type": "code",
   "execution_count": 9,
   "id": "b25fc2bf",
   "metadata": {},
   "outputs": [
    {
     "data": {
      "text/plain": [
       "Index(['enrollee_id', 'city', 'city_development_index', 'gender',\n",
       "       'relevent_experience', 'enrolled_university', 'education_level',\n",
       "       'major_discipline', 'experience', 'company_size', 'company_type',\n",
       "       'last_new_job', 'training_hours', 'target'],\n",
       "      dtype='object')"
      ]
     },
     "execution_count": 9,
     "metadata": {},
     "output_type": "execute_result"
    }
   ],
   "source": [
    "# colunas\n",
    "\n",
    "df.columns"
   ]
  },
  {
   "cell_type": "code",
   "execution_count": 10,
   "id": "5bed0a03",
   "metadata": {},
   "outputs": [
    {
     "data": {
      "text/html": [
       "<div>\n",
       "<style scoped>\n",
       "    .dataframe tbody tr th:only-of-type {\n",
       "        vertical-align: middle;\n",
       "    }\n",
       "\n",
       "    .dataframe tbody tr th {\n",
       "        vertical-align: top;\n",
       "    }\n",
       "\n",
       "    .dataframe thead th {\n",
       "        text-align: right;\n",
       "    }\n",
       "</style>\n",
       "<table border=\"1\" class=\"dataframe\">\n",
       "  <thead>\n",
       "    <tr style=\"text-align: right;\">\n",
       "      <th></th>\n",
       "      <th>enrollee_id</th>\n",
       "      <th>city</th>\n",
       "      <th>city_development_index</th>\n",
       "      <th>gender</th>\n",
       "      <th>relevent_experience</th>\n",
       "      <th>enrolled_university</th>\n",
       "      <th>education_level</th>\n",
       "      <th>major_discipline</th>\n",
       "      <th>experience</th>\n",
       "      <th>company_size</th>\n",
       "      <th>company_type</th>\n",
       "      <th>last_new_job</th>\n",
       "      <th>training_hours</th>\n",
       "      <th>target</th>\n",
       "    </tr>\n",
       "  </thead>\n",
       "  <tbody>\n",
       "    <tr>\n",
       "      <th>0</th>\n",
       "      <td>8949</td>\n",
       "      <td>city_103</td>\n",
       "      <td>0.920</td>\n",
       "      <td>Male</td>\n",
       "      <td>Has relevent experience</td>\n",
       "      <td>no_enrollment</td>\n",
       "      <td>Graduate</td>\n",
       "      <td>STEM</td>\n",
       "      <td>&gt;20</td>\n",
       "      <td>NaN</td>\n",
       "      <td>NaN</td>\n",
       "      <td>1</td>\n",
       "      <td>36</td>\n",
       "      <td>1.0</td>\n",
       "    </tr>\n",
       "    <tr>\n",
       "      <th>1</th>\n",
       "      <td>29725</td>\n",
       "      <td>city_40</td>\n",
       "      <td>0.776</td>\n",
       "      <td>Male</td>\n",
       "      <td>No relevent experience</td>\n",
       "      <td>no_enrollment</td>\n",
       "      <td>Graduate</td>\n",
       "      <td>STEM</td>\n",
       "      <td>15</td>\n",
       "      <td>50-99</td>\n",
       "      <td>Pvt Ltd</td>\n",
       "      <td>&gt;4</td>\n",
       "      <td>47</td>\n",
       "      <td>0.0</td>\n",
       "    </tr>\n",
       "    <tr>\n",
       "      <th>2</th>\n",
       "      <td>11561</td>\n",
       "      <td>city_21</td>\n",
       "      <td>0.624</td>\n",
       "      <td>NaN</td>\n",
       "      <td>No relevent experience</td>\n",
       "      <td>Full time course</td>\n",
       "      <td>Graduate</td>\n",
       "      <td>STEM</td>\n",
       "      <td>5</td>\n",
       "      <td>NaN</td>\n",
       "      <td>NaN</td>\n",
       "      <td>never</td>\n",
       "      <td>83</td>\n",
       "      <td>0.0</td>\n",
       "    </tr>\n",
       "    <tr>\n",
       "      <th>3</th>\n",
       "      <td>33241</td>\n",
       "      <td>city_115</td>\n",
       "      <td>0.789</td>\n",
       "      <td>NaN</td>\n",
       "      <td>No relevent experience</td>\n",
       "      <td>NaN</td>\n",
       "      <td>Graduate</td>\n",
       "      <td>Business Degree</td>\n",
       "      <td>&lt;1</td>\n",
       "      <td>NaN</td>\n",
       "      <td>Pvt Ltd</td>\n",
       "      <td>never</td>\n",
       "      <td>52</td>\n",
       "      <td>1.0</td>\n",
       "    </tr>\n",
       "    <tr>\n",
       "      <th>4</th>\n",
       "      <td>666</td>\n",
       "      <td>city_162</td>\n",
       "      <td>0.767</td>\n",
       "      <td>Male</td>\n",
       "      <td>Has relevent experience</td>\n",
       "      <td>no_enrollment</td>\n",
       "      <td>Masters</td>\n",
       "      <td>STEM</td>\n",
       "      <td>&gt;20</td>\n",
       "      <td>50-99</td>\n",
       "      <td>Funded Startup</td>\n",
       "      <td>4</td>\n",
       "      <td>8</td>\n",
       "      <td>0.0</td>\n",
       "    </tr>\n",
       "  </tbody>\n",
       "</table>\n",
       "</div>"
      ],
      "text/plain": [
       "   enrollee_id      city  city_development_index gender  \\\n",
       "0         8949  city_103                   0.920   Male   \n",
       "1        29725   city_40                   0.776   Male   \n",
       "2        11561   city_21                   0.624    NaN   \n",
       "3        33241  city_115                   0.789    NaN   \n",
       "4          666  city_162                   0.767   Male   \n",
       "\n",
       "       relevent_experience enrolled_university education_level  \\\n",
       "0  Has relevent experience       no_enrollment        Graduate   \n",
       "1   No relevent experience       no_enrollment        Graduate   \n",
       "2   No relevent experience    Full time course        Graduate   \n",
       "3   No relevent experience                 NaN        Graduate   \n",
       "4  Has relevent experience       no_enrollment         Masters   \n",
       "\n",
       "  major_discipline experience company_size    company_type last_new_job  \\\n",
       "0             STEM        >20          NaN             NaN            1   \n",
       "1             STEM         15        50-99         Pvt Ltd           >4   \n",
       "2             STEM          5          NaN             NaN        never   \n",
       "3  Business Degree         <1          NaN         Pvt Ltd        never   \n",
       "4             STEM        >20        50-99  Funded Startup            4   \n",
       "\n",
       "   training_hours  target  \n",
       "0              36     1.0  \n",
       "1              47     0.0  \n",
       "2              83     0.0  \n",
       "3              52     1.0  \n",
       "4               8     0.0  "
      ]
     },
     "execution_count": 10,
     "metadata": {},
     "output_type": "execute_result"
    }
   ],
   "source": [
    "# verificando as primeiras linhas do dataset\n",
    "\n",
    "df.head()"
   ]
  },
  {
   "cell_type": "code",
   "execution_count": 11,
   "id": "4ef7633d",
   "metadata": {},
   "outputs": [
    {
     "name": "stdout",
     "output_type": "stream",
     "text": [
      "<class 'pandas.core.frame.DataFrame'>\n",
      "RangeIndex: 19158 entries, 0 to 19157\n",
      "Data columns (total 14 columns):\n",
      " #   Column                  Non-Null Count  Dtype  \n",
      "---  ------                  --------------  -----  \n",
      " 0   enrollee_id             19158 non-null  int64  \n",
      " 1   city                    19158 non-null  object \n",
      " 2   city_development_index  19158 non-null  float64\n",
      " 3   gender                  14650 non-null  object \n",
      " 4   relevent_experience     19158 non-null  object \n",
      " 5   enrolled_university     18772 non-null  object \n",
      " 6   education_level         18698 non-null  object \n",
      " 7   major_discipline        16345 non-null  object \n",
      " 8   experience              19093 non-null  object \n",
      " 9   company_size            13220 non-null  object \n",
      " 10  company_type            13018 non-null  object \n",
      " 11  last_new_job            18735 non-null  object \n",
      " 12  training_hours          19158 non-null  int64  \n",
      " 13  target                  19158 non-null  float64\n",
      "dtypes: float64(2), int64(2), object(10)\n",
      "memory usage: 2.0+ MB\n"
     ]
    }
   ],
   "source": [
    "# info\n",
    "\n",
    "df.info()"
   ]
  },
  {
   "cell_type": "markdown",
   "id": "997af5a8",
   "metadata": {},
   "source": [
    "## Análise Exploratória de Dados"
   ]
  },
  {
   "cell_type": "code",
   "execution_count": 12,
   "id": "bbf553b2",
   "metadata": {},
   "outputs": [
    {
     "data": {
      "text/html": [
       "<div>\n",
       "<style scoped>\n",
       "    .dataframe tbody tr th:only-of-type {\n",
       "        vertical-align: middle;\n",
       "    }\n",
       "\n",
       "    .dataframe tbody tr th {\n",
       "        vertical-align: top;\n",
       "    }\n",
       "\n",
       "    .dataframe thead th {\n",
       "        text-align: right;\n",
       "    }\n",
       "</style>\n",
       "<table border=\"1\" class=\"dataframe\">\n",
       "  <thead>\n",
       "    <tr style=\"text-align: right;\">\n",
       "      <th></th>\n",
       "      <th>city</th>\n",
       "      <th>gender</th>\n",
       "      <th>relevent_experience</th>\n",
       "      <th>enrolled_university</th>\n",
       "      <th>education_level</th>\n",
       "      <th>major_discipline</th>\n",
       "      <th>experience</th>\n",
       "      <th>company_size</th>\n",
       "      <th>company_type</th>\n",
       "      <th>last_new_job</th>\n",
       "    </tr>\n",
       "  </thead>\n",
       "  <tbody>\n",
       "    <tr>\n",
       "      <th>count</th>\n",
       "      <td>19158</td>\n",
       "      <td>14650</td>\n",
       "      <td>19158</td>\n",
       "      <td>18772</td>\n",
       "      <td>18698</td>\n",
       "      <td>16345</td>\n",
       "      <td>19093</td>\n",
       "      <td>13220</td>\n",
       "      <td>13018</td>\n",
       "      <td>18735</td>\n",
       "    </tr>\n",
       "    <tr>\n",
       "      <th>unique</th>\n",
       "      <td>123</td>\n",
       "      <td>3</td>\n",
       "      <td>2</td>\n",
       "      <td>3</td>\n",
       "      <td>5</td>\n",
       "      <td>6</td>\n",
       "      <td>22</td>\n",
       "      <td>8</td>\n",
       "      <td>6</td>\n",
       "      <td>6</td>\n",
       "    </tr>\n",
       "    <tr>\n",
       "      <th>top</th>\n",
       "      <td>city_103</td>\n",
       "      <td>Male</td>\n",
       "      <td>Has relevent experience</td>\n",
       "      <td>no_enrollment</td>\n",
       "      <td>Graduate</td>\n",
       "      <td>STEM</td>\n",
       "      <td>&gt;20</td>\n",
       "      <td>50-99</td>\n",
       "      <td>Pvt Ltd</td>\n",
       "      <td>1</td>\n",
       "    </tr>\n",
       "    <tr>\n",
       "      <th>freq</th>\n",
       "      <td>4355</td>\n",
       "      <td>13221</td>\n",
       "      <td>13792</td>\n",
       "      <td>13817</td>\n",
       "      <td>11598</td>\n",
       "      <td>14492</td>\n",
       "      <td>3286</td>\n",
       "      <td>3083</td>\n",
       "      <td>9817</td>\n",
       "      <td>8040</td>\n",
       "    </tr>\n",
       "  </tbody>\n",
       "</table>\n",
       "</div>"
      ],
      "text/plain": [
       "            city gender      relevent_experience enrolled_university  \\\n",
       "count      19158  14650                    19158               18772   \n",
       "unique       123      3                        2                   3   \n",
       "top     city_103   Male  Has relevent experience       no_enrollment   \n",
       "freq        4355  13221                    13792               13817   \n",
       "\n",
       "       education_level major_discipline experience company_size company_type  \\\n",
       "count            18698            16345      19093        13220        13018   \n",
       "unique               5                6         22            8            6   \n",
       "top           Graduate             STEM        >20        50-99      Pvt Ltd   \n",
       "freq             11598            14492       3286         3083         9817   \n",
       "\n",
       "       last_new_job  \n",
       "count         18735  \n",
       "unique            6  \n",
       "top               1  \n",
       "freq           8040  "
      ]
     },
     "execution_count": 12,
     "metadata": {},
     "output_type": "execute_result"
    }
   ],
   "source": [
    "# Descrevendo os dados não numéricos (categoricos)\n",
    "\n",
    "df.describe(include=object)"
   ]
  },
  {
   "cell_type": "code",
   "execution_count": 13,
   "id": "2a21751c",
   "metadata": {},
   "outputs": [
    {
     "data": {
      "text/html": [
       "<div>\n",
       "<style scoped>\n",
       "    .dataframe tbody tr th:only-of-type {\n",
       "        vertical-align: middle;\n",
       "    }\n",
       "\n",
       "    .dataframe tbody tr th {\n",
       "        vertical-align: top;\n",
       "    }\n",
       "\n",
       "    .dataframe thead th {\n",
       "        text-align: right;\n",
       "    }\n",
       "</style>\n",
       "<table border=\"1\" class=\"dataframe\">\n",
       "  <thead>\n",
       "    <tr style=\"text-align: right;\">\n",
       "      <th></th>\n",
       "      <th>city_development_index</th>\n",
       "      <th>training_hours</th>\n",
       "    </tr>\n",
       "  </thead>\n",
       "  <tbody>\n",
       "    <tr>\n",
       "      <th>count</th>\n",
       "      <td>19158.000000</td>\n",
       "      <td>19158.000000</td>\n",
       "    </tr>\n",
       "    <tr>\n",
       "      <th>mean</th>\n",
       "      <td>0.828848</td>\n",
       "      <td>65.366896</td>\n",
       "    </tr>\n",
       "    <tr>\n",
       "      <th>std</th>\n",
       "      <td>0.123362</td>\n",
       "      <td>60.058462</td>\n",
       "    </tr>\n",
       "    <tr>\n",
       "      <th>min</th>\n",
       "      <td>0.448000</td>\n",
       "      <td>1.000000</td>\n",
       "    </tr>\n",
       "    <tr>\n",
       "      <th>25%</th>\n",
       "      <td>0.740000</td>\n",
       "      <td>23.000000</td>\n",
       "    </tr>\n",
       "    <tr>\n",
       "      <th>50%</th>\n",
       "      <td>0.903000</td>\n",
       "      <td>47.000000</td>\n",
       "    </tr>\n",
       "    <tr>\n",
       "      <th>75%</th>\n",
       "      <td>0.920000</td>\n",
       "      <td>88.000000</td>\n",
       "    </tr>\n",
       "    <tr>\n",
       "      <th>max</th>\n",
       "      <td>0.949000</td>\n",
       "      <td>336.000000</td>\n",
       "    </tr>\n",
       "  </tbody>\n",
       "</table>\n",
       "</div>"
      ],
      "text/plain": [
       "       city_development_index  training_hours\n",
       "count            19158.000000    19158.000000\n",
       "mean                 0.828848       65.366896\n",
       "std                  0.123362       60.058462\n",
       "min                  0.448000        1.000000\n",
       "25%                  0.740000       23.000000\n",
       "50%                  0.903000       47.000000\n",
       "75%                  0.920000       88.000000\n",
       "max                  0.949000      336.000000"
      ]
     },
     "execution_count": 13,
     "metadata": {},
     "output_type": "execute_result"
    }
   ],
   "source": [
    "# descrevendo os dados númericos\n",
    "\n",
    "df.describe().drop(columns=['enrollee_id','target'])"
   ]
  },
  {
   "cell_type": "markdown",
   "id": "a330383b",
   "metadata": {},
   "source": [
    "* Em **city_development_index** (CDI), os valores médios são 0,828, mediana 0,903 e std 0,123. Isso significa que a maioria dos candidatos é de cidades bem desenvolvidas.\n",
    "\n",
    "\n",
    "* Em **training_hours**, os valores médios são 65,367, mediana 47 e max 336. Isso significa que há mais candidatos com poucas horas de treinamento, mas alguns candidatos gastam muito tempo para fazer o treinamento."
   ]
  },
  {
   "cell_type": "markdown",
   "id": "aa7cec5f",
   "metadata": {},
   "source": [
    "### Visualizando as Variáveis Categóricas"
   ]
  },
  {
   "cell_type": "code",
   "execution_count": 14,
   "id": "3d20119e",
   "metadata": {},
   "outputs": [
    {
     "data": {
      "text/plain": [
       "['gender',\n",
       " 'relevent_experience',\n",
       " 'enrolled_university',\n",
       " 'education_level',\n",
       " 'major_discipline',\n",
       " 'experience',\n",
       " 'company_size',\n",
       " 'company_type',\n",
       " 'last_new_job']"
      ]
     },
     "execution_count": 14,
     "metadata": {},
     "output_type": "execute_result"
    }
   ],
   "source": [
    "list(df.columns.values)[3:12]\n"
   ]
  },
  {
   "cell_type": "code",
   "execution_count": 15,
   "id": "763734b2",
   "metadata": {},
   "outputs": [
    {
     "data": {
      "image/png": "[encoded data removed]",
      "text/plain": [
       "<Figure size 1296x2160 with 9 Axes>"
      ]
     },
     "metadata": {
      "needs_background": "light"
     },
     "output_type": "display_data"
    }
   ],
   "source": [
    "# Plot\n",
    "\n",
    "# Tamanho da figura\n",
    "plt.figure(figsize = (18,30))\n",
    "\n",
    "# Lista de colunas\n",
    "column_list = list(df.columns.values)[3:12]\n",
    "\n",
    "# Contador\n",
    "A = 0\n",
    "\n",
    "# Loop\n",
    "for i in column_list:\n",
    "    A += 1\n",
    "    plt.subplot(5, 2, A)\n",
    "    ax = sns.countplot(data = df.fillna('NaN'), x = i)\n",
    "    plt.title(i, fontsize = 15)\n",
    "    for p in ax.patches:\n",
    "        ax.annotate(f'\\n{p.get_height()}', (p.get_x()+0.4, p.get_height()), ha = 'center', color = 'black', size = 12)\n",
    "    if A >= 7:\n",
    "        plt.xticks(rotation = 45)\n",
    "\n",
    "# Layout\n",
    "plt.tight_layout(h_pad = 2)"
   ]
  },
  {
   "cell_type": "markdown",
   "id": "61b86c2c",
   "metadata": {},
   "source": [
    "### Verificando a Distribuição das Variáveis Numéricas"
   ]
  },
  {
   "cell_type": "code",
   "execution_count": 16,
   "id": "35eece4e",
   "metadata": {},
   "outputs": [
    {
     "data": {
      "text/html": [
       "<div>\n",
       "<style scoped>\n",
       "    .dataframe tbody tr th:only-of-type {\n",
       "        vertical-align: middle;\n",
       "    }\n",
       "\n",
       "    .dataframe tbody tr th {\n",
       "        vertical-align: top;\n",
       "    }\n",
       "\n",
       "    .dataframe thead th {\n",
       "        text-align: right;\n",
       "    }\n",
       "</style>\n",
       "<table border=\"1\" class=\"dataframe\">\n",
       "  <thead>\n",
       "    <tr style=\"text-align: right;\">\n",
       "      <th></th>\n",
       "      <th>city_development_index</th>\n",
       "      <th>training_hours</th>\n",
       "    </tr>\n",
       "  </thead>\n",
       "  <tbody>\n",
       "    <tr>\n",
       "      <th>count</th>\n",
       "      <td>19158.000000</td>\n",
       "      <td>19158.000000</td>\n",
       "    </tr>\n",
       "    <tr>\n",
       "      <th>mean</th>\n",
       "      <td>0.828848</td>\n",
       "      <td>65.366896</td>\n",
       "    </tr>\n",
       "    <tr>\n",
       "      <th>std</th>\n",
       "      <td>0.123362</td>\n",
       "      <td>60.058462</td>\n",
       "    </tr>\n",
       "    <tr>\n",
       "      <th>min</th>\n",
       "      <td>0.448000</td>\n",
       "      <td>1.000000</td>\n",
       "    </tr>\n",
       "    <tr>\n",
       "      <th>25%</th>\n",
       "      <td>0.740000</td>\n",
       "      <td>23.000000</td>\n",
       "    </tr>\n",
       "    <tr>\n",
       "      <th>50%</th>\n",
       "      <td>0.903000</td>\n",
       "      <td>47.000000</td>\n",
       "    </tr>\n",
       "    <tr>\n",
       "      <th>75%</th>\n",
       "      <td>0.920000</td>\n",
       "      <td>88.000000</td>\n",
       "    </tr>\n",
       "    <tr>\n",
       "      <th>max</th>\n",
       "      <td>0.949000</td>\n",
       "      <td>336.000000</td>\n",
       "    </tr>\n",
       "  </tbody>\n",
       "</table>\n",
       "</div>"
      ],
      "text/plain": [
       "       city_development_index  training_hours\n",
       "count            19158.000000    19158.000000\n",
       "mean                 0.828848       65.366896\n",
       "std                  0.123362       60.058462\n",
       "min                  0.448000        1.000000\n",
       "25%                  0.740000       23.000000\n",
       "50%                  0.903000       47.000000\n",
       "75%                  0.920000       88.000000\n",
       "max                  0.949000      336.000000"
      ]
     },
     "execution_count": 16,
     "metadata": {},
     "output_type": "execute_result"
    }
   ],
   "source": [
    "# Descrevendo os dados numéricos\n",
    "df.describe().drop(columns = ['enrollee_id', 'target'])"
   ]
  },
  {
   "cell_type": "code",
   "execution_count": 17,
   "id": "e1990bb3",
   "metadata": {},
   "outputs": [
    {
     "data": {
      "image/png": "[encoded data removed]",
      "text/plain": [
       "<Figure size 1224x864 with 4 Axes>"
      ]
     },
     "metadata": {
      "needs_background": "light"
     },
     "output_type": "display_data"
    }
   ],
   "source": [
    "# Figura\n",
    "plt.figure(figsize = (17,12))\n",
    "\n",
    "# Subplots com histogramas\n",
    "plt.subplot(221)\n",
    "sns.color_palette(\"hls\", 8)\n",
    "sns.histplot(df['city_development_index'], kde = True, color = \"green\")\n",
    "plt.title('Histograma do CDI', fontsize = 20)\n",
    "\n",
    "plt.subplot(222)\n",
    "sns.histplot(df['training_hours'], kde = True, color = \"magenta\")\n",
    "plt.title('Histograma das Horas de Treinamento', fontsize = 20)\n",
    "\n",
    "# Subplots com boxplots\n",
    "plt.subplot(223)\n",
    "sns.boxplot(df['city_development_index'], color = \"green\")\n",
    "\n",
    "plt.subplot(224)\n",
    "sns.boxplot(df['training_hours'], color = \"magenta\")\n",
    "\n",
    "plt.show()"
   ]
  },
  {
   "cell_type": "code",
   "execution_count": 18,
   "id": "51300d7d",
   "metadata": {},
   "outputs": [
    {
     "name": "stdout",
     "output_type": "stream",
     "text": [
      "O intervalo interquartil é: 0.18, o limite inferior é 0.47 e o limite superior é 1.19\n"
     ]
    }
   ],
   "source": [
    "# verificando quais são os valores outliers\n",
    "# intervalo interquartil (IQR )\n",
    "\n",
    "Q1 = np.percentile(df['city_development_index'], 25,\n",
    "                   interpolation = 'midpoint')\n",
    " \n",
    "Q3 = np.percentile(df['city_development_index'], 75,\n",
    "                   interpolation = 'midpoint')\n",
    "IQR = round(Q3 - Q1,2)\n",
    "\n",
    "limite_inferior = round((Q1-1.5*IQR),2)\n",
    "\n",
    "limite_superior = round((Q3+1.5*IQR),2)\n",
    "\n",
    "print(f'O intervalo interquartil é: {IQR}, o limite inferior é {limite_inferior} e o limite superior é {limite_superior}')"
   ]
  },
  {
   "cell_type": "code",
   "execution_count": 19,
   "id": "8fe49d28",
   "metadata": {},
   "outputs": [
    {
     "name": "stdout",
     "output_type": "stream",
     "text": [
      "Quatidade de valores abaixo do limite inferior 17\n",
      "Quatidade de valores abaixo do limite inferior 0\n"
     ]
    }
   ],
   "source": [
    "# filtrando na base os valores discrepantes\n",
    "# por esse calculo só temos valores outliers abaixo do limite inferior\n",
    "\n",
    "print(f\"Quatidade de valores abaixo do limite inferior {df.query('city_development_index < 0.47')['enrollee_id'].count()}\")\n",
    "\n",
    "print(f\"Quatidade de valores abaixo do limite inferior {df.query('city_development_index > 1.19')['enrollee_id'].count()}\")"
   ]
  },
  {
   "cell_type": "code",
   "execution_count": 20,
   "id": "2f2e8e46",
   "metadata": {},
   "outputs": [
    {
     "data": {
      "text/html": [
       "<div>\n",
       "<style scoped>\n",
       "    .dataframe tbody tr th:only-of-type {\n",
       "        vertical-align: middle;\n",
       "    }\n",
       "\n",
       "    .dataframe tbody tr th {\n",
       "        vertical-align: top;\n",
       "    }\n",
       "\n",
       "    .dataframe thead th {\n",
       "        text-align: right;\n",
       "    }\n",
       "</style>\n",
       "<table border=\"1\" class=\"dataframe\">\n",
       "  <thead>\n",
       "    <tr style=\"text-align: right;\">\n",
       "      <th></th>\n",
       "      <th>enrollee_id</th>\n",
       "      <th>city</th>\n",
       "      <th>city_development_index</th>\n",
       "      <th>gender</th>\n",
       "      <th>relevent_experience</th>\n",
       "      <th>enrolled_university</th>\n",
       "      <th>education_level</th>\n",
       "      <th>major_discipline</th>\n",
       "      <th>experience</th>\n",
       "      <th>company_size</th>\n",
       "      <th>company_type</th>\n",
       "      <th>last_new_job</th>\n",
       "      <th>training_hours</th>\n",
       "      <th>target</th>\n",
       "    </tr>\n",
       "  </thead>\n",
       "  <tbody>\n",
       "    <tr>\n",
       "      <th>1523</th>\n",
       "      <td>8238</td>\n",
       "      <td>city_33</td>\n",
       "      <td>0.448</td>\n",
       "      <td>NaN</td>\n",
       "      <td>Has relevent experience</td>\n",
       "      <td>Part time course</td>\n",
       "      <td>Graduate</td>\n",
       "      <td>STEM</td>\n",
       "      <td>10</td>\n",
       "      <td>50-99</td>\n",
       "      <td>NGO</td>\n",
       "      <td>&gt;4</td>\n",
       "      <td>48</td>\n",
       "      <td>1.0</td>\n",
       "    </tr>\n",
       "    <tr>\n",
       "      <th>4744</th>\n",
       "      <td>30985</td>\n",
       "      <td>city_33</td>\n",
       "      <td>0.448</td>\n",
       "      <td>NaN</td>\n",
       "      <td>No relevent experience</td>\n",
       "      <td>Full time course</td>\n",
       "      <td>Graduate</td>\n",
       "      <td>STEM</td>\n",
       "      <td>2</td>\n",
       "      <td>NaN</td>\n",
       "      <td>NaN</td>\n",
       "      <td>never</td>\n",
       "      <td>43</td>\n",
       "      <td>1.0</td>\n",
       "    </tr>\n",
       "    <tr>\n",
       "      <th>5010</th>\n",
       "      <td>27970</td>\n",
       "      <td>city_33</td>\n",
       "      <td>0.448</td>\n",
       "      <td>Male</td>\n",
       "      <td>No relevent experience</td>\n",
       "      <td>no_enrollment</td>\n",
       "      <td>Graduate</td>\n",
       "      <td>STEM</td>\n",
       "      <td>1</td>\n",
       "      <td>NaN</td>\n",
       "      <td>NaN</td>\n",
       "      <td>never</td>\n",
       "      <td>73</td>\n",
       "      <td>1.0</td>\n",
       "    </tr>\n",
       "    <tr>\n",
       "      <th>5265</th>\n",
       "      <td>31194</td>\n",
       "      <td>city_33</td>\n",
       "      <td>0.448</td>\n",
       "      <td>NaN</td>\n",
       "      <td>No relevent experience</td>\n",
       "      <td>NaN</td>\n",
       "      <td>High School</td>\n",
       "      <td>NaN</td>\n",
       "      <td>5</td>\n",
       "      <td>NaN</td>\n",
       "      <td>Pvt Ltd</td>\n",
       "      <td>never</td>\n",
       "      <td>86</td>\n",
       "      <td>1.0</td>\n",
       "    </tr>\n",
       "    <tr>\n",
       "      <th>5567</th>\n",
       "      <td>598</td>\n",
       "      <td>city_33</td>\n",
       "      <td>0.448</td>\n",
       "      <td>NaN</td>\n",
       "      <td>Has relevent experience</td>\n",
       "      <td>Part time course</td>\n",
       "      <td>Masters</td>\n",
       "      <td>STEM</td>\n",
       "      <td>6</td>\n",
       "      <td>NaN</td>\n",
       "      <td>NaN</td>\n",
       "      <td>1</td>\n",
       "      <td>18</td>\n",
       "      <td>1.0</td>\n",
       "    </tr>\n",
       "    <tr>\n",
       "      <th>6127</th>\n",
       "      <td>18564</td>\n",
       "      <td>city_33</td>\n",
       "      <td>0.448</td>\n",
       "      <td>NaN</td>\n",
       "      <td>No relevent experience</td>\n",
       "      <td>Full time course</td>\n",
       "      <td>Graduate</td>\n",
       "      <td>STEM</td>\n",
       "      <td>4</td>\n",
       "      <td>NaN</td>\n",
       "      <td>Public Sector</td>\n",
       "      <td>4</td>\n",
       "      <td>32</td>\n",
       "      <td>1.0</td>\n",
       "    </tr>\n",
       "    <tr>\n",
       "      <th>7724</th>\n",
       "      <td>31179</td>\n",
       "      <td>city_33</td>\n",
       "      <td>0.448</td>\n",
       "      <td>Male</td>\n",
       "      <td>Has relevent experience</td>\n",
       "      <td>no_enrollment</td>\n",
       "      <td>Graduate</td>\n",
       "      <td>STEM</td>\n",
       "      <td>7</td>\n",
       "      <td>50-99</td>\n",
       "      <td>Pvt Ltd</td>\n",
       "      <td>1</td>\n",
       "      <td>28</td>\n",
       "      <td>0.0</td>\n",
       "    </tr>\n",
       "    <tr>\n",
       "      <th>7864</th>\n",
       "      <td>26838</td>\n",
       "      <td>city_33</td>\n",
       "      <td>0.448</td>\n",
       "      <td>Male</td>\n",
       "      <td>Has relevent experience</td>\n",
       "      <td>no_enrollment</td>\n",
       "      <td>Graduate</td>\n",
       "      <td>STEM</td>\n",
       "      <td>8</td>\n",
       "      <td>NaN</td>\n",
       "      <td>NaN</td>\n",
       "      <td>&gt;4</td>\n",
       "      <td>74</td>\n",
       "      <td>0.0</td>\n",
       "    </tr>\n",
       "    <tr>\n",
       "      <th>9134</th>\n",
       "      <td>4858</td>\n",
       "      <td>city_33</td>\n",
       "      <td>0.448</td>\n",
       "      <td>NaN</td>\n",
       "      <td>No relevent experience</td>\n",
       "      <td>Part time course</td>\n",
       "      <td>Masters</td>\n",
       "      <td>Other</td>\n",
       "      <td>2</td>\n",
       "      <td>&lt;10</td>\n",
       "      <td>NGO</td>\n",
       "      <td>1</td>\n",
       "      <td>23</td>\n",
       "      <td>1.0</td>\n",
       "    </tr>\n",
       "    <tr>\n",
       "      <th>10401</th>\n",
       "      <td>19463</td>\n",
       "      <td>city_33</td>\n",
       "      <td>0.448</td>\n",
       "      <td>Male</td>\n",
       "      <td>No relevent experience</td>\n",
       "      <td>no_enrollment</td>\n",
       "      <td>Graduate</td>\n",
       "      <td>STEM</td>\n",
       "      <td>5</td>\n",
       "      <td>10000+</td>\n",
       "      <td>Pvt Ltd</td>\n",
       "      <td>2</td>\n",
       "      <td>36</td>\n",
       "      <td>0.0</td>\n",
       "    </tr>\n",
       "    <tr>\n",
       "      <th>13549</th>\n",
       "      <td>28317</td>\n",
       "      <td>city_33</td>\n",
       "      <td>0.448</td>\n",
       "      <td>NaN</td>\n",
       "      <td>Has relevent experience</td>\n",
       "      <td>no_enrollment</td>\n",
       "      <td>Graduate</td>\n",
       "      <td>STEM</td>\n",
       "      <td>8</td>\n",
       "      <td>10/49</td>\n",
       "      <td>Pvt Ltd</td>\n",
       "      <td>2</td>\n",
       "      <td>14</td>\n",
       "      <td>0.0</td>\n",
       "    </tr>\n",
       "    <tr>\n",
       "      <th>14913</th>\n",
       "      <td>3891</td>\n",
       "      <td>city_33</td>\n",
       "      <td>0.448</td>\n",
       "      <td>Male</td>\n",
       "      <td>No relevent experience</td>\n",
       "      <td>Full time course</td>\n",
       "      <td>High School</td>\n",
       "      <td>NaN</td>\n",
       "      <td>4</td>\n",
       "      <td>NaN</td>\n",
       "      <td>NaN</td>\n",
       "      <td>never</td>\n",
       "      <td>31</td>\n",
       "      <td>0.0</td>\n",
       "    </tr>\n",
       "    <tr>\n",
       "      <th>15114</th>\n",
       "      <td>4776</td>\n",
       "      <td>city_33</td>\n",
       "      <td>0.448</td>\n",
       "      <td>NaN</td>\n",
       "      <td>No relevent experience</td>\n",
       "      <td>Full time course</td>\n",
       "      <td>Masters</td>\n",
       "      <td>STEM</td>\n",
       "      <td>4</td>\n",
       "      <td>NaN</td>\n",
       "      <td>Pvt Ltd</td>\n",
       "      <td>never</td>\n",
       "      <td>66</td>\n",
       "      <td>1.0</td>\n",
       "    </tr>\n",
       "    <tr>\n",
       "      <th>16555</th>\n",
       "      <td>30131</td>\n",
       "      <td>city_33</td>\n",
       "      <td>0.448</td>\n",
       "      <td>Male</td>\n",
       "      <td>Has relevent experience</td>\n",
       "      <td>no_enrollment</td>\n",
       "      <td>Graduate</td>\n",
       "      <td>STEM</td>\n",
       "      <td>4</td>\n",
       "      <td>100-500</td>\n",
       "      <td>Pvt Ltd</td>\n",
       "      <td>1</td>\n",
       "      <td>16</td>\n",
       "      <td>0.0</td>\n",
       "    </tr>\n",
       "    <tr>\n",
       "      <th>16784</th>\n",
       "      <td>10486</td>\n",
       "      <td>city_33</td>\n",
       "      <td>0.448</td>\n",
       "      <td>NaN</td>\n",
       "      <td>No relevent experience</td>\n",
       "      <td>Full time course</td>\n",
       "      <td>Graduate</td>\n",
       "      <td>Other</td>\n",
       "      <td>2</td>\n",
       "      <td>500-999</td>\n",
       "      <td>Public Sector</td>\n",
       "      <td>2</td>\n",
       "      <td>154</td>\n",
       "      <td>1.0</td>\n",
       "    </tr>\n",
       "    <tr>\n",
       "      <th>17701</th>\n",
       "      <td>24256</td>\n",
       "      <td>city_33</td>\n",
       "      <td>0.448</td>\n",
       "      <td>Male</td>\n",
       "      <td>No relevent experience</td>\n",
       "      <td>no_enrollment</td>\n",
       "      <td>Graduate</td>\n",
       "      <td>STEM</td>\n",
       "      <td>4</td>\n",
       "      <td>10/49</td>\n",
       "      <td>Public Sector</td>\n",
       "      <td>1</td>\n",
       "      <td>44</td>\n",
       "      <td>1.0</td>\n",
       "    </tr>\n",
       "    <tr>\n",
       "      <th>18065</th>\n",
       "      <td>16548</td>\n",
       "      <td>city_33</td>\n",
       "      <td>0.448</td>\n",
       "      <td>NaN</td>\n",
       "      <td>No relevent experience</td>\n",
       "      <td>Full time course</td>\n",
       "      <td>Graduate</td>\n",
       "      <td>STEM</td>\n",
       "      <td>&lt;1</td>\n",
       "      <td>1000-4999</td>\n",
       "      <td>Public Sector</td>\n",
       "      <td>NaN</td>\n",
       "      <td>15</td>\n",
       "      <td>1.0</td>\n",
       "    </tr>\n",
       "  </tbody>\n",
       "</table>\n",
       "</div>"
      ],
      "text/plain": [
       "       enrollee_id     city  city_development_index gender  \\\n",
       "1523          8238  city_33                   0.448    NaN   \n",
       "4744         30985  city_33                   0.448    NaN   \n",
       "5010         27970  city_33                   0.448   Male   \n",
       "5265         31194  city_33                   0.448    NaN   \n",
       "5567           598  city_33                   0.448    NaN   \n",
       "6127         18564  city_33                   0.448    NaN   \n",
       "7724         31179  city_33                   0.448   Male   \n",
       "7864         26838  city_33                   0.448   Male   \n",
       "9134          4858  city_33                   0.448    NaN   \n",
       "10401        19463  city_33                   0.448   Male   \n",
       "13549        28317  city_33                   0.448    NaN   \n",
       "14913         3891  city_33                   0.448   Male   \n",
       "15114         4776  city_33                   0.448    NaN   \n",
       "16555        30131  city_33                   0.448   Male   \n",
       "16784        10486  city_33                   0.448    NaN   \n",
       "17701        24256  city_33                   0.448   Male   \n",
       "18065        16548  city_33                   0.448    NaN   \n",
       "\n",
       "           relevent_experience enrolled_university education_level  \\\n",
       "1523   Has relevent experience    Part time course        Graduate   \n",
       "4744    No relevent experience    Full time course        Graduate   \n",
       "5010    No relevent experience       no_enrollment        Graduate   \n",
       "5265    No relevent experience                 NaN     High School   \n",
       "5567   Has relevent experience    Part time course         Masters   \n",
       "6127    No relevent experience    Full time course        Graduate   \n",
       "7724   Has relevent experience       no_enrollment        Graduate   \n",
       "7864   Has relevent experience       no_enrollment        Graduate   \n",
       "9134    No relevent experience    Part time course         Masters   \n",
       "10401   No relevent experience       no_enrollment        Graduate   \n",
       "13549  Has relevent experience       no_enrollment        Graduate   \n",
       "14913   No relevent experience    Full time course     High School   \n",
       "15114   No relevent experience    Full time course         Masters   \n",
       "16555  Has relevent experience       no_enrollment        Graduate   \n",
       "16784   No relevent experience    Full time course        Graduate   \n",
       "17701   No relevent experience       no_enrollment        Graduate   \n",
       "18065   No relevent experience    Full time course        Graduate   \n",
       "\n",
       "      major_discipline experience company_size   company_type last_new_job  \\\n",
       "1523              STEM         10        50-99            NGO           >4   \n",
       "4744              STEM          2          NaN            NaN        never   \n",
       "5010              STEM          1          NaN            NaN        never   \n",
       "5265               NaN          5          NaN        Pvt Ltd        never   \n",
       "5567              STEM          6          NaN            NaN            1   \n",
       "6127              STEM          4          NaN  Public Sector            4   \n",
       "7724              STEM          7        50-99        Pvt Ltd            1   \n",
       "7864              STEM          8          NaN            NaN           >4   \n",
       "9134             Other          2          <10            NGO            1   \n",
       "10401             STEM          5       10000+        Pvt Ltd            2   \n",
       "13549             STEM          8        10/49        Pvt Ltd            2   \n",
       "14913              NaN          4          NaN            NaN        never   \n",
       "15114             STEM          4          NaN        Pvt Ltd        never   \n",
       "16555             STEM          4      100-500        Pvt Ltd            1   \n",
       "16784            Other          2      500-999  Public Sector            2   \n",
       "17701             STEM          4        10/49  Public Sector            1   \n",
       "18065             STEM         <1    1000-4999  Public Sector          NaN   \n",
       "\n",
       "       training_hours  target  \n",
       "1523               48     1.0  \n",
       "4744               43     1.0  \n",
       "5010               73     1.0  \n",
       "5265               86     1.0  \n",
       "5567               18     1.0  \n",
       "6127               32     1.0  \n",
       "7724               28     0.0  \n",
       "7864               74     0.0  \n",
       "9134               23     1.0  \n",
       "10401              36     0.0  \n",
       "13549              14     0.0  \n",
       "14913              31     0.0  \n",
       "15114              66     1.0  \n",
       "16555              16     0.0  \n",
       "16784             154     1.0  \n",
       "17701              44     1.0  \n",
       "18065              15     1.0  "
      ]
     },
     "execution_count": 20,
     "metadata": {},
     "output_type": "execute_result"
    }
   ],
   "source": [
    "df.query('city_development_index < 0.47')"
   ]
  },
  {
   "cell_type": "code",
   "execution_count": 21,
   "id": "14dd54e3",
   "metadata": {},
   "outputs": [
    {
     "name": "stdout",
     "output_type": "stream",
     "text": [
      "O intervalo interquartil é: 65.0, o limite inferior é -74.5 e o limite superior é 185.5\n"
     ]
    }
   ],
   "source": [
    "# verificando quais são os valores outliers\n",
    "# intervalo interquartil (IQR )\n",
    "# por esse calculo só temos valores outliers acima do limite superior\n",
    "\n",
    "Q1 = np.percentile(df['training_hours'], 25,\n",
    "                   interpolation = 'midpoint')\n",
    " \n",
    "Q3 = np.percentile(df['training_hours'], 75,\n",
    "                   interpolation = 'midpoint')\n",
    "IQR = round(Q3 - Q1,2)\n",
    "\n",
    "limite_inferior = round((Q1-1.5*IQR),2)\n",
    "\n",
    "limite_superior = round((Q3+1.5*IQR),2)\n",
    "\n",
    "print(f'O intervalo interquartil é: {IQR}, o limite inferior é {limite_inferior} e o limite superior é {limite_superior}')"
   ]
  },
  {
   "cell_type": "code",
   "execution_count": 22,
   "id": "dcc5f0d3",
   "metadata": {},
   "outputs": [
    {
     "name": "stdout",
     "output_type": "stream",
     "text": [
      "Quatidade de valores abaixo do limite inferior 0\n",
      "Quatidade de valores abaixo do limite inferior 984\n"
     ]
    }
   ],
   "source": [
    "# filtrando na base os valores discrepantes\n",
    "# por esse calculo só temos valores outliers acima do limite superior\n",
    "\n",
    "print(f\"Quatidade de valores abaixo do limite inferior {df.query('training_hours < -74.5')['enrollee_id'].count()}\")\n",
    "\n",
    "print(f\"Quatidade de valores abaixo do limite inferior {df.query('training_hours > 185.5')['enrollee_id'].count()}\")"
   ]
  },
  {
   "cell_type": "code",
   "execution_count": 23,
   "id": "fb17e3ef",
   "metadata": {},
   "outputs": [
    {
     "data": {
      "text/html": [
       "<div>\n",
       "<style scoped>\n",
       "    .dataframe tbody tr th:only-of-type {\n",
       "        vertical-align: middle;\n",
       "    }\n",
       "\n",
       "    .dataframe tbody tr th {\n",
       "        vertical-align: top;\n",
       "    }\n",
       "\n",
       "    .dataframe thead th {\n",
       "        text-align: right;\n",
       "    }\n",
       "</style>\n",
       "<table border=\"1\" class=\"dataframe\">\n",
       "  <thead>\n",
       "    <tr style=\"text-align: right;\">\n",
       "      <th></th>\n",
       "      <th>enrollee_id</th>\n",
       "      <th>city</th>\n",
       "      <th>city_development_index</th>\n",
       "      <th>gender</th>\n",
       "      <th>relevent_experience</th>\n",
       "      <th>enrolled_university</th>\n",
       "      <th>education_level</th>\n",
       "      <th>major_discipline</th>\n",
       "      <th>experience</th>\n",
       "      <th>company_size</th>\n",
       "      <th>company_type</th>\n",
       "      <th>last_new_job</th>\n",
       "      <th>training_hours</th>\n",
       "      <th>target</th>\n",
       "    </tr>\n",
       "  </thead>\n",
       "  <tbody>\n",
       "    <tr>\n",
       "      <th>13929</th>\n",
       "      <td>4983</td>\n",
       "      <td>city_103</td>\n",
       "      <td>0.920</td>\n",
       "      <td>Male</td>\n",
       "      <td>Has relevent experience</td>\n",
       "      <td>no_enrollment</td>\n",
       "      <td>Masters</td>\n",
       "      <td>Humanities</td>\n",
       "      <td>5</td>\n",
       "      <td>10000+</td>\n",
       "      <td>Pvt Ltd</td>\n",
       "      <td>1</td>\n",
       "      <td>336</td>\n",
       "      <td>0.0</td>\n",
       "    </tr>\n",
       "    <tr>\n",
       "      <th>4794</th>\n",
       "      <td>28975</td>\n",
       "      <td>city_103</td>\n",
       "      <td>0.920</td>\n",
       "      <td>Male</td>\n",
       "      <td>No relevent experience</td>\n",
       "      <td>no_enrollment</td>\n",
       "      <td>Graduate</td>\n",
       "      <td>STEM</td>\n",
       "      <td>12</td>\n",
       "      <td>500-999</td>\n",
       "      <td>Pvt Ltd</td>\n",
       "      <td>1</td>\n",
       "      <td>336</td>\n",
       "      <td>0.0</td>\n",
       "    </tr>\n",
       "    <tr>\n",
       "      <th>7121</th>\n",
       "      <td>10041</td>\n",
       "      <td>city_103</td>\n",
       "      <td>0.920</td>\n",
       "      <td>NaN</td>\n",
       "      <td>No relevent experience</td>\n",
       "      <td>Full time course</td>\n",
       "      <td>Graduate</td>\n",
       "      <td>STEM</td>\n",
       "      <td>&lt;1</td>\n",
       "      <td>NaN</td>\n",
       "      <td>NaN</td>\n",
       "      <td>2</td>\n",
       "      <td>336</td>\n",
       "      <td>1.0</td>\n",
       "    </tr>\n",
       "    <tr>\n",
       "      <th>2056</th>\n",
       "      <td>6410</td>\n",
       "      <td>city_160</td>\n",
       "      <td>0.920</td>\n",
       "      <td>NaN</td>\n",
       "      <td>No relevent experience</td>\n",
       "      <td>no_enrollment</td>\n",
       "      <td>Primary School</td>\n",
       "      <td>NaN</td>\n",
       "      <td>3</td>\n",
       "      <td>50-99</td>\n",
       "      <td>Pvt Ltd</td>\n",
       "      <td>1</td>\n",
       "      <td>336</td>\n",
       "      <td>0.0</td>\n",
       "    </tr>\n",
       "    <tr>\n",
       "      <th>13753</th>\n",
       "      <td>23680</td>\n",
       "      <td>city_145</td>\n",
       "      <td>0.555</td>\n",
       "      <td>Male</td>\n",
       "      <td>No relevent experience</td>\n",
       "      <td>no_enrollment</td>\n",
       "      <td>Masters</td>\n",
       "      <td>STEM</td>\n",
       "      <td>3</td>\n",
       "      <td>100-500</td>\n",
       "      <td>Pvt Ltd</td>\n",
       "      <td>1</td>\n",
       "      <td>336</td>\n",
       "      <td>1.0</td>\n",
       "    </tr>\n",
       "    <tr>\n",
       "      <th>16785</th>\n",
       "      <td>26858</td>\n",
       "      <td>city_160</td>\n",
       "      <td>0.920</td>\n",
       "      <td>Male</td>\n",
       "      <td>Has relevent experience</td>\n",
       "      <td>Part time course</td>\n",
       "      <td>Graduate</td>\n",
       "      <td>STEM</td>\n",
       "      <td>16</td>\n",
       "      <td>10/49</td>\n",
       "      <td>Early Stage Startup</td>\n",
       "      <td>2</td>\n",
       "      <td>336</td>\n",
       "      <td>0.0</td>\n",
       "    </tr>\n",
       "    <tr>\n",
       "      <th>4117</th>\n",
       "      <td>14332</td>\n",
       "      <td>city_19</td>\n",
       "      <td>0.682</td>\n",
       "      <td>NaN</td>\n",
       "      <td>No relevent experience</td>\n",
       "      <td>no_enrollment</td>\n",
       "      <td>Graduate</td>\n",
       "      <td>STEM</td>\n",
       "      <td>5</td>\n",
       "      <td>100-500</td>\n",
       "      <td>Pvt Ltd</td>\n",
       "      <td>1</td>\n",
       "      <td>336</td>\n",
       "      <td>0.0</td>\n",
       "    </tr>\n",
       "    <tr>\n",
       "      <th>4397</th>\n",
       "      <td>27795</td>\n",
       "      <td>city_103</td>\n",
       "      <td>0.920</td>\n",
       "      <td>Male</td>\n",
       "      <td>No relevent experience</td>\n",
       "      <td>no_enrollment</td>\n",
       "      <td>Primary School</td>\n",
       "      <td>NaN</td>\n",
       "      <td>6</td>\n",
       "      <td>NaN</td>\n",
       "      <td>NaN</td>\n",
       "      <td>never</td>\n",
       "      <td>336</td>\n",
       "      <td>0.0</td>\n",
       "    </tr>\n",
       "    <tr>\n",
       "      <th>18458</th>\n",
       "      <td>32716</td>\n",
       "      <td>city_103</td>\n",
       "      <td>0.920</td>\n",
       "      <td>NaN</td>\n",
       "      <td>Has relevent experience</td>\n",
       "      <td>no_enrollment</td>\n",
       "      <td>Phd</td>\n",
       "      <td>STEM</td>\n",
       "      <td>17</td>\n",
       "      <td>50-99</td>\n",
       "      <td>Pvt Ltd</td>\n",
       "      <td>1</td>\n",
       "      <td>336</td>\n",
       "      <td>0.0</td>\n",
       "    </tr>\n",
       "    <tr>\n",
       "      <th>6322</th>\n",
       "      <td>32554</td>\n",
       "      <td>city_103</td>\n",
       "      <td>0.920</td>\n",
       "      <td>Male</td>\n",
       "      <td>No relevent experience</td>\n",
       "      <td>Full time course</td>\n",
       "      <td>Graduate</td>\n",
       "      <td>STEM</td>\n",
       "      <td>2</td>\n",
       "      <td>10/49</td>\n",
       "      <td>Public Sector</td>\n",
       "      <td>1</td>\n",
       "      <td>336</td>\n",
       "      <td>0.0</td>\n",
       "    </tr>\n",
       "    <tr>\n",
       "      <th>15615</th>\n",
       "      <td>31454</td>\n",
       "      <td>city_27</td>\n",
       "      <td>0.848</td>\n",
       "      <td>Male</td>\n",
       "      <td>Has relevent experience</td>\n",
       "      <td>no_enrollment</td>\n",
       "      <td>Graduate</td>\n",
       "      <td>STEM</td>\n",
       "      <td>15</td>\n",
       "      <td>50-99</td>\n",
       "      <td>NaN</td>\n",
       "      <td>4</td>\n",
       "      <td>336</td>\n",
       "      <td>1.0</td>\n",
       "    </tr>\n",
       "    <tr>\n",
       "      <th>17047</th>\n",
       "      <td>12559</td>\n",
       "      <td>city_114</td>\n",
       "      <td>0.926</td>\n",
       "      <td>NaN</td>\n",
       "      <td>Has relevent experience</td>\n",
       "      <td>no_enrollment</td>\n",
       "      <td>Graduate</td>\n",
       "      <td>STEM</td>\n",
       "      <td>3</td>\n",
       "      <td>50-99</td>\n",
       "      <td>Pvt Ltd</td>\n",
       "      <td>1</td>\n",
       "      <td>334</td>\n",
       "      <td>0.0</td>\n",
       "    </tr>\n",
       "    <tr>\n",
       "      <th>15565</th>\n",
       "      <td>10600</td>\n",
       "      <td>city_75</td>\n",
       "      <td>0.939</td>\n",
       "      <td>Male</td>\n",
       "      <td>No relevent experience</td>\n",
       "      <td>Part time course</td>\n",
       "      <td>Graduate</td>\n",
       "      <td>STEM</td>\n",
       "      <td>14</td>\n",
       "      <td>NaN</td>\n",
       "      <td>NaN</td>\n",
       "      <td>&gt;4</td>\n",
       "      <td>334</td>\n",
       "      <td>1.0</td>\n",
       "    </tr>\n",
       "    <tr>\n",
       "      <th>14490</th>\n",
       "      <td>32712</td>\n",
       "      <td>city_103</td>\n",
       "      <td>0.920</td>\n",
       "      <td>Male</td>\n",
       "      <td>Has relevent experience</td>\n",
       "      <td>no_enrollment</td>\n",
       "      <td>Graduate</td>\n",
       "      <td>STEM</td>\n",
       "      <td>14</td>\n",
       "      <td>100-500</td>\n",
       "      <td>Pvt Ltd</td>\n",
       "      <td>1</td>\n",
       "      <td>334</td>\n",
       "      <td>0.0</td>\n",
       "    </tr>\n",
       "    <tr>\n",
       "      <th>3182</th>\n",
       "      <td>31256</td>\n",
       "      <td>city_64</td>\n",
       "      <td>0.666</td>\n",
       "      <td>Male</td>\n",
       "      <td>Has relevent experience</td>\n",
       "      <td>no_enrollment</td>\n",
       "      <td>Graduate</td>\n",
       "      <td>Humanities</td>\n",
       "      <td>19</td>\n",
       "      <td>&lt;10</td>\n",
       "      <td>Pvt Ltd</td>\n",
       "      <td>1</td>\n",
       "      <td>334</td>\n",
       "      <td>0.0</td>\n",
       "    </tr>\n",
       "    <tr>\n",
       "      <th>15377</th>\n",
       "      <td>6564</td>\n",
       "      <td>city_9</td>\n",
       "      <td>0.743</td>\n",
       "      <td>NaN</td>\n",
       "      <td>Has relevent experience</td>\n",
       "      <td>Part time course</td>\n",
       "      <td>Graduate</td>\n",
       "      <td>Other</td>\n",
       "      <td>4</td>\n",
       "      <td>&lt;10</td>\n",
       "      <td>Pvt Ltd</td>\n",
       "      <td>NaN</td>\n",
       "      <td>334</td>\n",
       "      <td>1.0</td>\n",
       "    </tr>\n",
       "    <tr>\n",
       "      <th>10253</th>\n",
       "      <td>17951</td>\n",
       "      <td>city_67</td>\n",
       "      <td>0.855</td>\n",
       "      <td>Male</td>\n",
       "      <td>Has relevent experience</td>\n",
       "      <td>no_enrollment</td>\n",
       "      <td>Masters</td>\n",
       "      <td>STEM</td>\n",
       "      <td>15</td>\n",
       "      <td>500-999</td>\n",
       "      <td>Pvt Ltd</td>\n",
       "      <td>never</td>\n",
       "      <td>334</td>\n",
       "      <td>0.0</td>\n",
       "    </tr>\n",
       "    <tr>\n",
       "      <th>3256</th>\n",
       "      <td>24537</td>\n",
       "      <td>city_114</td>\n",
       "      <td>0.926</td>\n",
       "      <td>Male</td>\n",
       "      <td>Has relevent experience</td>\n",
       "      <td>no_enrollment</td>\n",
       "      <td>Masters</td>\n",
       "      <td>STEM</td>\n",
       "      <td>14</td>\n",
       "      <td>50-99</td>\n",
       "      <td>Pvt Ltd</td>\n",
       "      <td>4</td>\n",
       "      <td>334</td>\n",
       "      <td>0.0</td>\n",
       "    </tr>\n",
       "    <tr>\n",
       "      <th>5500</th>\n",
       "      <td>15053</td>\n",
       "      <td>city_160</td>\n",
       "      <td>0.920</td>\n",
       "      <td>Male</td>\n",
       "      <td>Has relevent experience</td>\n",
       "      <td>Full time course</td>\n",
       "      <td>Graduate</td>\n",
       "      <td>STEM</td>\n",
       "      <td>20</td>\n",
       "      <td>10/49</td>\n",
       "      <td>Pvt Ltd</td>\n",
       "      <td>1</td>\n",
       "      <td>334</td>\n",
       "      <td>0.0</td>\n",
       "    </tr>\n",
       "    <tr>\n",
       "      <th>10394</th>\n",
       "      <td>1919</td>\n",
       "      <td>city_90</td>\n",
       "      <td>0.698</td>\n",
       "      <td>NaN</td>\n",
       "      <td>No relevent experience</td>\n",
       "      <td>Full time course</td>\n",
       "      <td>High School</td>\n",
       "      <td>NaN</td>\n",
       "      <td>4</td>\n",
       "      <td>10/49</td>\n",
       "      <td>NGO</td>\n",
       "      <td>1</td>\n",
       "      <td>334</td>\n",
       "      <td>0.0</td>\n",
       "    </tr>\n",
       "  </tbody>\n",
       "</table>\n",
       "</div>"
      ],
      "text/plain": [
       "       enrollee_id      city  city_development_index gender  \\\n",
       "13929         4983  city_103                   0.920   Male   \n",
       "4794         28975  city_103                   0.920   Male   \n",
       "7121         10041  city_103                   0.920    NaN   \n",
       "2056          6410  city_160                   0.920    NaN   \n",
       "13753        23680  city_145                   0.555   Male   \n",
       "16785        26858  city_160                   0.920   Male   \n",
       "4117         14332   city_19                   0.682    NaN   \n",
       "4397         27795  city_103                   0.920   Male   \n",
       "18458        32716  city_103                   0.920    NaN   \n",
       "6322         32554  city_103                   0.920   Male   \n",
       "15615        31454   city_27                   0.848   Male   \n",
       "17047        12559  city_114                   0.926    NaN   \n",
       "15565        10600   city_75                   0.939   Male   \n",
       "14490        32712  city_103                   0.920   Male   \n",
       "3182         31256   city_64                   0.666   Male   \n",
       "15377         6564    city_9                   0.743    NaN   \n",
       "10253        17951   city_67                   0.855   Male   \n",
       "3256         24537  city_114                   0.926   Male   \n",
       "5500         15053  city_160                   0.920   Male   \n",
       "10394         1919   city_90                   0.698    NaN   \n",
       "\n",
       "           relevent_experience enrolled_university education_level  \\\n",
       "13929  Has relevent experience       no_enrollment         Masters   \n",
       "4794    No relevent experience       no_enrollment        Graduate   \n",
       "7121    No relevent experience    Full time course        Graduate   \n",
       "2056    No relevent experience       no_enrollment  Primary School   \n",
       "13753   No relevent experience       no_enrollment         Masters   \n",
       "16785  Has relevent experience    Part time course        Graduate   \n",
       "4117    No relevent experience       no_enrollment        Graduate   \n",
       "4397    No relevent experience       no_enrollment  Primary School   \n",
       "18458  Has relevent experience       no_enrollment             Phd   \n",
       "6322    No relevent experience    Full time course        Graduate   \n",
       "15615  Has relevent experience       no_enrollment        Graduate   \n",
       "17047  Has relevent experience       no_enrollment        Graduate   \n",
       "15565   No relevent experience    Part time course        Graduate   \n",
       "14490  Has relevent experience       no_enrollment        Graduate   \n",
       "3182   Has relevent experience       no_enrollment        Graduate   \n",
       "15377  Has relevent experience    Part time course        Graduate   \n",
       "10253  Has relevent experience       no_enrollment         Masters   \n",
       "3256   Has relevent experience       no_enrollment         Masters   \n",
       "5500   Has relevent experience    Full time course        Graduate   \n",
       "10394   No relevent experience    Full time course     High School   \n",
       "\n",
       "      major_discipline experience company_size         company_type  \\\n",
       "13929       Humanities          5       10000+              Pvt Ltd   \n",
       "4794              STEM         12      500-999              Pvt Ltd   \n",
       "7121              STEM         <1          NaN                  NaN   \n",
       "2056               NaN          3        50-99              Pvt Ltd   \n",
       "13753             STEM          3      100-500              Pvt Ltd   \n",
       "16785             STEM         16        10/49  Early Stage Startup   \n",
       "4117              STEM          5      100-500              Pvt Ltd   \n",
       "4397               NaN          6          NaN                  NaN   \n",
       "18458             STEM         17        50-99              Pvt Ltd   \n",
       "6322              STEM          2        10/49        Public Sector   \n",
       "15615             STEM         15        50-99                  NaN   \n",
       "17047             STEM          3        50-99              Pvt Ltd   \n",
       "15565             STEM         14          NaN                  NaN   \n",
       "14490             STEM         14      100-500              Pvt Ltd   \n",
       "3182        Humanities         19          <10              Pvt Ltd   \n",
       "15377            Other          4          <10              Pvt Ltd   \n",
       "10253             STEM         15      500-999              Pvt Ltd   \n",
       "3256              STEM         14        50-99              Pvt Ltd   \n",
       "5500              STEM         20        10/49              Pvt Ltd   \n",
       "10394              NaN          4        10/49                  NGO   \n",
       "\n",
       "      last_new_job  training_hours  target  \n",
       "13929            1             336     0.0  \n",
       "4794             1             336     0.0  \n",
       "7121             2             336     1.0  \n",
       "2056             1             336     0.0  \n",
       "13753            1             336     1.0  \n",
       "16785            2             336     0.0  \n",
       "4117             1             336     0.0  \n",
       "4397         never             336     0.0  \n",
       "18458            1             336     0.0  \n",
       "6322             1             336     0.0  \n",
       "15615            4             336     1.0  \n",
       "17047            1             334     0.0  \n",
       "15565           >4             334     1.0  \n",
       "14490            1             334     0.0  \n",
       "3182             1             334     0.0  \n",
       "15377          NaN             334     1.0  \n",
       "10253        never             334     0.0  \n",
       "3256             4             334     0.0  \n",
       "5500             1             334     0.0  \n",
       "10394            1             334     0.0  "
      ]
     },
     "execution_count": 23,
     "metadata": {},
     "output_type": "execute_result"
    }
   ],
   "source": [
    "# top 20\n",
    "\n",
    "df.query('training_hours > 185.5').sort_values(by=['training_hours'],ascending=False)[:20]"
   ]
  },
  {
   "cell_type": "code",
   "execution_count": 24,
   "id": "80c736bb",
   "metadata": {},
   "outputs": [
    {
     "name": "stdout",
     "output_type": "stream",
     "text": [
      "city_development_index : Distribuição Não Normal\n",
      "training_hours : Distribuição Não Normal\n"
     ]
    }
   ],
   "source": [
    "# Teste de Normalidade da Distribuição\n",
    "\n",
    "# Lista com as variáveis numéricas\n",
    "numerical_feature = ['city_development_index', 'training_hours']\n",
    "\n",
    "# Loop\n",
    "for i in numerical_feature:\n",
    "    \n",
    "    # Calcula a normalidade\n",
    "    stats, pval = normaltest(df[i])\n",
    "    \n",
    "     # Checar valor-p\n",
    "    if pval > 0.05:\n",
    "        print(i, ': Distribuição Normal')\n",
    "    else:\n",
    "        print(i, ': Distribuição Não Normal')"
   ]
  },
  {
   "cell_type": "markdown",
   "id": "5e64b99a",
   "metadata": {},
   "source": [
    "* As variáveis **city_development_index** e **training_hours** não seguem a distribuição normal. Para a análise numérica, usaremos o método não paramétrico.\n",
    "\n",
    "\n",
    "* Dados de **training_hours** estão localizados principalmente no lado esquerdo do histograma. É um comportamento esperado porque as pessoas geralmente ficam animadas ao fazer o treinamento no início, mas nem todos que começam conseguem terminar uma maratona. ;-)"
   ]
  },
  {
   "cell_type": "markdown",
   "id": "2ab3502f",
   "metadata": {},
   "source": [
    "### Correlação dos Dados\n"
   ]
  },
  {
   "cell_type": "markdown",
   "id": "af30ef23",
   "metadata": {},
   "source": [
    "Analisamos a correlação entre as variáveis numéricas e entre as variáveis numéricas e a variável alvo (o que estamos querendo analisar).m"
   ]
  },
  {
   "cell_type": "code",
   "execution_count": 25,
   "id": "20935945",
   "metadata": {},
   "outputs": [
    {
     "data": {
      "text/html": [
       "<div>\n",
       "<style scoped>\n",
       "    .dataframe tbody tr th:only-of-type {\n",
       "        vertical-align: middle;\n",
       "    }\n",
       "\n",
       "    .dataframe tbody tr th {\n",
       "        vertical-align: top;\n",
       "    }\n",
       "\n",
       "    .dataframe thead th {\n",
       "        text-align: right;\n",
       "    }\n",
       "</style>\n",
       "<table border=\"1\" class=\"dataframe\">\n",
       "  <thead>\n",
       "    <tr style=\"text-align: right;\">\n",
       "      <th></th>\n",
       "      <th>enrollee_id</th>\n",
       "      <th>city</th>\n",
       "      <th>city_development_index</th>\n",
       "      <th>gender</th>\n",
       "      <th>relevent_experience</th>\n",
       "      <th>enrolled_university</th>\n",
       "      <th>education_level</th>\n",
       "      <th>major_discipline</th>\n",
       "      <th>experience</th>\n",
       "      <th>company_size</th>\n",
       "      <th>company_type</th>\n",
       "      <th>last_new_job</th>\n",
       "      <th>training_hours</th>\n",
       "      <th>target</th>\n",
       "    </tr>\n",
       "  </thead>\n",
       "  <tbody>\n",
       "    <tr>\n",
       "      <th>0</th>\n",
       "      <td>8949</td>\n",
       "      <td>city_103</td>\n",
       "      <td>0.920</td>\n",
       "      <td>Male</td>\n",
       "      <td>Has relevent experience</td>\n",
       "      <td>no_enrollment</td>\n",
       "      <td>Graduate</td>\n",
       "      <td>STEM</td>\n",
       "      <td>&gt;20</td>\n",
       "      <td>NaN</td>\n",
       "      <td>NaN</td>\n",
       "      <td>1</td>\n",
       "      <td>36</td>\n",
       "      <td>1.0</td>\n",
       "    </tr>\n",
       "    <tr>\n",
       "      <th>1</th>\n",
       "      <td>29725</td>\n",
       "      <td>city_40</td>\n",
       "      <td>0.776</td>\n",
       "      <td>Male</td>\n",
       "      <td>No relevent experience</td>\n",
       "      <td>no_enrollment</td>\n",
       "      <td>Graduate</td>\n",
       "      <td>STEM</td>\n",
       "      <td>15</td>\n",
       "      <td>50-99</td>\n",
       "      <td>Pvt Ltd</td>\n",
       "      <td>&gt;4</td>\n",
       "      <td>47</td>\n",
       "      <td>0.0</td>\n",
       "    </tr>\n",
       "    <tr>\n",
       "      <th>2</th>\n",
       "      <td>11561</td>\n",
       "      <td>city_21</td>\n",
       "      <td>0.624</td>\n",
       "      <td>NaN</td>\n",
       "      <td>No relevent experience</td>\n",
       "      <td>Full time course</td>\n",
       "      <td>Graduate</td>\n",
       "      <td>STEM</td>\n",
       "      <td>5</td>\n",
       "      <td>NaN</td>\n",
       "      <td>NaN</td>\n",
       "      <td>never</td>\n",
       "      <td>83</td>\n",
       "      <td>0.0</td>\n",
       "    </tr>\n",
       "    <tr>\n",
       "      <th>3</th>\n",
       "      <td>33241</td>\n",
       "      <td>city_115</td>\n",
       "      <td>0.789</td>\n",
       "      <td>NaN</td>\n",
       "      <td>No relevent experience</td>\n",
       "      <td>NaN</td>\n",
       "      <td>Graduate</td>\n",
       "      <td>Business Degree</td>\n",
       "      <td>&lt;1</td>\n",
       "      <td>NaN</td>\n",
       "      <td>Pvt Ltd</td>\n",
       "      <td>never</td>\n",
       "      <td>52</td>\n",
       "      <td>1.0</td>\n",
       "    </tr>\n",
       "    <tr>\n",
       "      <th>4</th>\n",
       "      <td>666</td>\n",
       "      <td>city_162</td>\n",
       "      <td>0.767</td>\n",
       "      <td>Male</td>\n",
       "      <td>Has relevent experience</td>\n",
       "      <td>no_enrollment</td>\n",
       "      <td>Masters</td>\n",
       "      <td>STEM</td>\n",
       "      <td>&gt;20</td>\n",
       "      <td>50-99</td>\n",
       "      <td>Funded Startup</td>\n",
       "      <td>4</td>\n",
       "      <td>8</td>\n",
       "      <td>0.0</td>\n",
       "    </tr>\n",
       "  </tbody>\n",
       "</table>\n",
       "</div>"
      ],
      "text/plain": [
       "   enrollee_id      city  city_development_index gender  \\\n",
       "0         8949  city_103                   0.920   Male   \n",
       "1        29725   city_40                   0.776   Male   \n",
       "2        11561   city_21                   0.624    NaN   \n",
       "3        33241  city_115                   0.789    NaN   \n",
       "4          666  city_162                   0.767   Male   \n",
       "\n",
       "       relevent_experience enrolled_university education_level  \\\n",
       "0  Has relevent experience       no_enrollment        Graduate   \n",
       "1   No relevent experience       no_enrollment        Graduate   \n",
       "2   No relevent experience    Full time course        Graduate   \n",
       "3   No relevent experience                 NaN        Graduate   \n",
       "4  Has relevent experience       no_enrollment         Masters   \n",
       "\n",
       "  major_discipline experience company_size    company_type last_new_job  \\\n",
       "0             STEM        >20          NaN             NaN            1   \n",
       "1             STEM         15        50-99         Pvt Ltd           >4   \n",
       "2             STEM          5          NaN             NaN        never   \n",
       "3  Business Degree         <1          NaN         Pvt Ltd        never   \n",
       "4             STEM        >20        50-99  Funded Startup            4   \n",
       "\n",
       "   training_hours  target  \n",
       "0              36     1.0  \n",
       "1              47     0.0  \n",
       "2              83     0.0  \n",
       "3              52     1.0  \n",
       "4               8     0.0  "
      ]
     },
     "execution_count": 25,
     "metadata": {},
     "output_type": "execute_result"
    }
   ],
   "source": [
    "df.head()"
   ]
  },
  {
   "cell_type": "code",
   "execution_count": 26,
   "id": "230797c4",
   "metadata": {},
   "outputs": [
    {
     "data": {
      "text/plain": [
       "Index(['enrollee_id', 'city', 'city_development_index', 'gender',\n",
       "       'relevent_experience', 'enrolled_university', 'education_level',\n",
       "       'major_discipline', 'experience', 'company_size', 'company_type',\n",
       "       'last_new_job', 'training_hours', 'target'],\n",
       "      dtype='object')"
      ]
     },
     "execution_count": 26,
     "metadata": {},
     "output_type": "execute_result"
    }
   ],
   "source": [
    "df.columns"
   ]
  },
  {
   "cell_type": "code",
   "execution_count": 27,
   "id": "f6034858",
   "metadata": {},
   "outputs": [],
   "source": [
    "df_analise = df.copy()\n"
   ]
  },
  {
   "cell_type": "code",
   "execution_count": 28,
   "id": "641afca9",
   "metadata": {},
   "outputs": [
    {
     "data": {
      "text/plain": [
       ">20    3286\n",
       "5      1430\n",
       "4      1403\n",
       "3      1354\n",
       "6      1216\n",
       "2      1127\n",
       "7      1028\n",
       "10      985\n",
       "9       980\n",
       "8       802\n",
       "15      686\n",
       "11      664\n",
       "14      586\n",
       "1       549\n",
       "<1      522\n",
       "16      508\n",
       "12      494\n",
       "13      399\n",
       "17      342\n",
       "19      304\n",
       "18      280\n",
       "20      148\n",
       "Name: experience, dtype: int64"
      ]
     },
     "execution_count": 28,
     "metadata": {},
     "output_type": "execute_result"
    }
   ],
   "source": [
    "df_analise[\"experience\"].value_counts()"
   ]
  },
  {
   "cell_type": "code",
   "execution_count": 29,
   "id": "2995b2a1",
   "metadata": {},
   "outputs": [],
   "source": [
    "# Convertemos a variável experience para numérica\n",
    "df_analise[\"experience\"] = np.where(df_analise[\"experience\"] == \"<1\", 1, df_analise[\"experience\"])\n",
    "df_analise[\"experience\"] = np.where(df_analise[\"experience\"] == \">20\", 21, df_analise[\"experience\"])\n",
    "df_analise[\"experience\"] = df_analise[\"experience\"].astype(float)"
   ]
  },
  {
   "cell_type": "code",
   "execution_count": 30,
   "id": "8df95542",
   "metadata": {},
   "outputs": [
    {
     "data": {
      "text/plain": [
       "21.0    3286\n",
       "5.0     1430\n",
       "4.0     1403\n",
       "3.0     1354\n",
       "6.0     1216\n",
       "2.0     1127\n",
       "1.0     1071\n",
       "7.0     1028\n",
       "10.0     985\n",
       "9.0      980\n",
       "8.0      802\n",
       "15.0     686\n",
       "11.0     664\n",
       "14.0     586\n",
       "16.0     508\n",
       "12.0     494\n",
       "13.0     399\n",
       "17.0     342\n",
       "19.0     304\n",
       "18.0     280\n",
       "20.0     148\n",
       "Name: experience, dtype: int64"
      ]
     },
     "execution_count": 30,
     "metadata": {},
     "output_type": "execute_result"
    }
   ],
   "source": [
    "df_analise[\"experience\"].value_counts()"
   ]
  },
  {
   "cell_type": "code",
   "execution_count": 31,
   "id": "4b9a4e8f",
   "metadata": {},
   "outputs": [
    {
     "data": {
      "text/plain": [
       "1        8040\n",
       ">4       3290\n",
       "2        2900\n",
       "never    2452\n",
       "4        1029\n",
       "3        1024\n",
       "Name: last_new_job, dtype: int64"
      ]
     },
     "execution_count": 31,
     "metadata": {},
     "output_type": "execute_result"
    }
   ],
   "source": [
    "df_analise[\"last_new_job\"].value_counts()"
   ]
  },
  {
   "cell_type": "code",
   "execution_count": 32,
   "id": "b849f11b",
   "metadata": {},
   "outputs": [],
   "source": [
    "# Convertemos a variável last_new_job para numérica\n",
    "df_analise[\"last_new_job\"] = np.where(df_analise[\"last_new_job\"] == \"never\", 0, df_analise[\"last_new_job\"])\n",
    "df_analise[\"last_new_job\"] = np.where(df_analise[\"last_new_job\"] == \">4\", 5, df_analise[\"last_new_job\"])\n",
    "df_analise[\"last_new_job\"] = df_analise[\"last_new_job\"].astype(float)"
   ]
  },
  {
   "cell_type": "code",
   "execution_count": 33,
   "id": "f5861db6",
   "metadata": {},
   "outputs": [
    {
     "data": {
      "text/plain": [
       "1.0    8040\n",
       "5.0    3290\n",
       "2.0    2900\n",
       "0.0    2452\n",
       "4.0    1029\n",
       "3.0    1024\n",
       "Name: last_new_job, dtype: int64"
      ]
     },
     "execution_count": 33,
     "metadata": {},
     "output_type": "execute_result"
    }
   ],
   "source": [
    "df_analise[\"last_new_job\"].value_counts()"
   ]
  },
  {
   "cell_type": "code",
   "execution_count": 34,
   "id": "77aefd42",
   "metadata": {},
   "outputs": [
    {
     "name": "stdout",
     "output_type": "stream",
     "text": [
      "<class 'pandas.core.frame.DataFrame'>\n",
      "RangeIndex: 19158 entries, 0 to 19157\n",
      "Data columns (total 14 columns):\n",
      " #   Column                  Non-Null Count  Dtype  \n",
      "---  ------                  --------------  -----  \n",
      " 0   enrollee_id             19158 non-null  int64  \n",
      " 1   city                    19158 non-null  object \n",
      " 2   city_development_index  19158 non-null  float64\n",
      " 3   gender                  14650 non-null  object \n",
      " 4   relevent_experience     19158 non-null  object \n",
      " 5   enrolled_university     18772 non-null  object \n",
      " 6   education_level         18698 non-null  object \n",
      " 7   major_discipline        16345 non-null  object \n",
      " 8   experience              19093 non-null  float64\n",
      " 9   company_size            13220 non-null  object \n",
      " 10  company_type            13018 non-null  object \n",
      " 11  last_new_job            18735 non-null  float64\n",
      " 12  training_hours          19158 non-null  int64  \n",
      " 13  target                  19158 non-null  float64\n",
      "dtypes: float64(4), int64(2), object(8)\n",
      "memory usage: 2.0+ MB\n"
     ]
    }
   ],
   "source": [
    "df_analise.info()"
   ]
  },
  {
   "cell_type": "markdown",
   "id": "8dc04fcc",
   "metadata": {},
   "source": [
    "###### Correlação de Spearman\n",
    "\n",
    "O Coeficiente de Correlação por Postos de Spearman, é uma medida não paramétrica da dependência dos postos das variáveis.\n",
    "\n",
    "Este coeficiente também pode ser chamado de ρ (rho) de Spearman, rs de Spearman ou Correlação de Spearman. Como o nome já dá a entender, a correlação de Spearman descreve a relação entre as variáveis através de uma função monotética.\n",
    "\n",
    "Isso significa, de maneira simplificada, que ele está analisando se, quando o valor de uma variável aumenta ou diminui, o valor da outra variável aumenta ou diminui.\n",
    "\n",
    "Para interpretarmos esta relação, o coeficiente da correlação de Spearman gera um número que varia de -1 a +1. Quanto mais próximo dos extremos (-1 ou 1), maior é a força da correlação. Já os valores próximos de 0 implicam em correlações mais fracas ou inexistentes.\n",
    "\n",
    "O quão próximo do zero indica o poder da relação, mas também precisamos interpretar o sinal, se é positivo ou negativo, que indica a direção desta relação. Se positiva, o aumento em uma variável implica no aumento na outra variável. Os valores negativos indicam que o aumento de uma variável implica no decréscimo de outra. Como no gráfico a seguir:\n",
    "\n",
    "\n",
    "![Gráfico](https://psicometriaonline.com.br//wp-content/uploads/2021/02/image-6.png)"
   ]
  },
  {
   "cell_type": "code",
   "execution_count": 35,
   "id": "fb0e373e",
   "metadata": {},
   "outputs": [
    {
     "data": {
      "text/html": [
       "<div>\n",
       "<style scoped>\n",
       "    .dataframe tbody tr th:only-of-type {\n",
       "        vertical-align: middle;\n",
       "    }\n",
       "\n",
       "    .dataframe tbody tr th {\n",
       "        vertical-align: top;\n",
       "    }\n",
       "\n",
       "    .dataframe thead th {\n",
       "        text-align: right;\n",
       "    }\n",
       "</style>\n",
       "<table border=\"1\" class=\"dataframe\">\n",
       "  <thead>\n",
       "    <tr style=\"text-align: right;\">\n",
       "      <th></th>\n",
       "      <th>city_development_index</th>\n",
       "      <th>experience</th>\n",
       "      <th>last_new_job</th>\n",
       "      <th>training_hours</th>\n",
       "      <th>target</th>\n",
       "    </tr>\n",
       "  </thead>\n",
       "  <tbody>\n",
       "    <tr>\n",
       "      <th>city_development_index</th>\n",
       "      <td>1.000000</td>\n",
       "      <td>0.300997</td>\n",
       "      <td>0.182698</td>\n",
       "      <td>0.007491</td>\n",
       "      <td>-0.279165</td>\n",
       "    </tr>\n",
       "    <tr>\n",
       "      <th>experience</th>\n",
       "      <td>0.300997</td>\n",
       "      <td>1.000000</td>\n",
       "      <td>0.473284</td>\n",
       "      <td>0.003569</td>\n",
       "      <td>-0.183721</td>\n",
       "    </tr>\n",
       "    <tr>\n",
       "      <th>last_new_job</th>\n",
       "      <td>0.182698</td>\n",
       "      <td>0.473284</td>\n",
       "      <td>1.000000</td>\n",
       "      <td>0.002959</td>\n",
       "      <td>-0.082045</td>\n",
       "    </tr>\n",
       "    <tr>\n",
       "      <th>training_hours</th>\n",
       "      <td>0.007491</td>\n",
       "      <td>0.003569</td>\n",
       "      <td>0.002959</td>\n",
       "      <td>1.000000</td>\n",
       "      <td>-0.014126</td>\n",
       "    </tr>\n",
       "    <tr>\n",
       "      <th>target</th>\n",
       "      <td>-0.279165</td>\n",
       "      <td>-0.183721</td>\n",
       "      <td>-0.082045</td>\n",
       "      <td>-0.014126</td>\n",
       "      <td>1.000000</td>\n",
       "    </tr>\n",
       "  </tbody>\n",
       "</table>\n",
       "</div>"
      ],
      "text/plain": [
       "                        city_development_index  experience  last_new_job  \\\n",
       "city_development_index                1.000000    0.300997      0.182698   \n",
       "experience                            0.300997    1.000000      0.473284   \n",
       "last_new_job                          0.182698    0.473284      1.000000   \n",
       "training_hours                        0.007491    0.003569      0.002959   \n",
       "target                               -0.279165   -0.183721     -0.082045   \n",
       "\n",
       "                        training_hours    target  \n",
       "city_development_index        0.007491 -0.279165  \n",
       "experience                    0.003569 -0.183721  \n",
       "last_new_job                  0.002959 -0.082045  \n",
       "training_hours                1.000000 -0.014126  \n",
       "target                       -0.014126  1.000000  "
      ]
     },
     "execution_count": 35,
     "metadata": {},
     "output_type": "execute_result"
    }
   ],
   "source": [
    "df_analise.drop(columns='enrollee_id',axis=1).corr(method='spearman')"
   ]
  },
  {
   "cell_type": "code",
   "execution_count": 36,
   "id": "7346f4be",
   "metadata": {},
   "outputs": [],
   "source": [
    "# # Heatmap\n",
    "# plt.figure(figsize = (7,7))\n",
    "# mask = np.zeros_like(df_analise.drop(\"enrollee_id\", axis = 1).corr(\"spearman\"))\n",
    "# mask[np.triu_indices_from(mask)] = True\n",
    "# sns.heatmap(df_analise.drop(\"enrollee_id\", axis = 1).corr(\"spearman\"), annot = True, cmap = \"YlGnBu\",mask =mask)\n",
    "# plt.title(\"Mapa de Correlação das Variáveis Numéricas\\n\", fontsize = 15)\n",
    "# plt.show()"
   ]
  },
  {
   "cell_type": "code",
   "execution_count": 37,
   "id": "b352107b",
   "metadata": {},
   "outputs": [
    {
     "data": {
      "image/png": "[encoded data removed]",
      "text/plain": [
       "<Figure size 504x504 with 2 Axes>"
      ]
     },
     "metadata": {
      "needs_background": "light"
     },
     "output_type": "display_data"
    }
   ],
   "source": [
    "# Heatmap\n",
    "plt.figure(figsize = (7,7))\n",
    "sns.heatmap(df_analise.drop(\"enrollee_id\", axis = 1).corr(\"spearman\"), annot = True, cmap = \"YlGnBu\")\n",
    "plt.title(\"Mapa de Correlação das Variáveis Numéricas\\n\", fontsize = 15)\n",
    "plt.show()"
   ]
  },
  {
   "cell_type": "code",
   "execution_count": 38,
   "id": "000963cd",
   "metadata": {},
   "outputs": [
    {
     "data": {
      "image/png": "[encoded data removed]",
      "text/plain": [
       "<Figure size 504x504 with 2 Axes>"
      ]
     },
     "metadata": {
      "needs_background": "light"
     },
     "output_type": "display_data"
    }
   ],
   "source": [
    "# Heatmap\n",
    "plt.figure(figsize = (7,7))\n",
    "upp_mat = np.triu(df_analise.drop(\"enrollee_id\", axis = 1).corr(\"spearman\"))\n",
    "sns.heatmap(df_analise.drop(\"enrollee_id\", axis = 1).corr(\"spearman\"), annot = True, cmap = \"YlGnBu\",mask = upp_mat)\n",
    "plt.title(\"Mapa de Correlação das Variáveis Numéricas\\n\", fontsize = 15)\n",
    "plt.show()"
   ]
  },
  {
   "cell_type": "markdown",
   "id": "3f42d190",
   "metadata": {},
   "source": [
    "Pela correlação de spearman, last_new_job e experience têm correlação média (0,473), enquanto outros têm correlação fraca.\n",
    "\n",
    "As variáveis last_new_job e training_hours tem correlação próxima de zero com a variável alvo e poderiam ser descartadas."
   ]
  },
  {
   "cell_type": "markdown",
   "id": "e2b4b7cd",
   "metadata": {},
   "source": [
    "### Weight of Evidence (WOE) e Information Value (IV)\n",
    "\n",
    "Este conjunto de dados contém mais dados com tipo categórico do que tipo numérico. Usaremos recursos categóricos nominais para WOE e IV."
   ]
  },
  {
   "cell_type": "markdown",
   "id": "082d39a8",
   "metadata": {},
   "source": [
    "Para a relação entre as variáveis categóricas e a variável alvo, usaremos WOE e IV."
   ]
  },
  {
   "cell_type": "markdown",
   "id": "c9c6e57d",
   "metadata": {},
   "source": [
    "Interpretamos o resultado de IV assim:\n",
    "\n",
    "    Information Value, Poder de Previsão\n",
    "    \n",
    "    < 0.02, não deve ser usado para previsão\n",
    "    0.02 - 0.1, preditor fraco\n",
    "    0.1 - 0.3, preditor médio\n",
    "    0.3 - 0.5, preditor forte\n",
    "    > 0.5, parece bom demais para ser verdade"
   ]
  },
  {
   "cell_type": "code",
   "execution_count": 39,
   "id": "709d49ec",
   "metadata": {},
   "outputs": [
    {
     "name": "stdout",
     "output_type": "stream",
     "text": [
      "target      0.0       1.0       woe        iv\n",
      "gender                                       \n",
      "Female  0.08098  0.096222  0.172452  0.003337\n",
      "Male    0.90650  0.889020 -0.019471  0.003337\n",
      "Other   0.01252  0.014758  0.164458  0.003337 \n",
      "------------------------------------------------------------\n",
      "target                        0.0       1.0       woe        iv\n",
      "relevent_experience                                            \n",
      "Has relevent experience  0.753147  0.619845 -0.194790  0.083523\n",
      "No relevent experience   0.246853  0.380155  0.431784  0.083523 \n",
      "------------------------------------------------------------\n",
      "target                    0.0       1.0       woe        iv\n",
      "enrolled_university                                        \n",
      "Full time course     0.164754  0.307477  0.623947  0.118886\n",
      "Part time course     0.063465  0.064890  0.022210  0.118886\n",
      "no_enrollment        0.771781  0.627632 -0.206746  0.118886 \n",
      "------------------------------------------------------------\n",
      "target                0.0       1.0       woe       iv\n",
      "education_level                                       \n",
      "Graduate         0.595579  0.694415  0.153535  0.05117\n",
      "High School      0.115722  0.084314 -0.316640  0.05117\n",
      "Masters          0.244278  0.200086 -0.199562  0.05117\n",
      "Phd              0.025383  0.012412 -0.715448  0.05117\n",
      "Primary School   0.019037  0.008774 -0.774636  0.05117 \n",
      "------------------------------------------------------------\n",
      "target                 0.0       1.0       woe        iv\n",
      "major_discipline                                        \n",
      "Arts              0.016506  0.012535 -0.275145  0.004148\n",
      "Business Degree   0.019889  0.020341  0.022431  0.004148\n",
      "Humanities        0.043575  0.033349 -0.267456  0.004148\n",
      "No Major          0.013865  0.013009 -0.063750  0.004148\n",
      "Other             0.023026  0.024125  0.046641  0.004148\n",
      "STEM              0.883139  0.896641  0.015173  0.004148 \n",
      "------------------------------------------------------------\n",
      "target                    0.0       1.0       woe        iv\n",
      "company_type                                               \n",
      "Early Stage Startup  0.043388  0.059340  0.313091  0.017772\n",
      "Funded Startup       0.081035  0.058504 -0.325790  0.017772\n",
      "NGO                  0.039906  0.040535  0.015639  0.017772\n",
      "Other                0.008659  0.012119  0.336169  0.017772\n",
      "Public Sector        0.070118  0.087756  0.224385  0.017772\n",
      "Pvt Ltd              0.756894  0.741747 -0.020215  0.017772 \n",
      "------------------------------------------------------------\n"
     ]
    }
   ],
   "source": [
    "# Loop\n",
    "for i in df_analise.drop(columns = ['target',\n",
    "                            'enrollee_id',\n",
    "                            'city',\n",
    "                            'city_development_index',\n",
    "                            'training_hours',\n",
    "                            'experience',\n",
    "                            'last_new_job',\n",
    "                            'company_size']).columns:\n",
    "    \n",
    "    df_woe_iv = (pd.crosstab(df_analise[i], df_analise['target'], normalize = 'columns')\n",
    "                 .assign(woe = lambda dfx: np.log(dfx[1] / dfx[0]))\n",
    "                 .assign(iv = lambda dfx: np.sum(dfx['woe'] * (dfx[1]-dfx[0]))))\n",
    "    \n",
    "    print(df_woe_iv,'\\n------------------------------------------------------------')"
   ]
  },
  {
   "cell_type": "code",
   "execution_count": 40,
   "id": "a6887ebd",
   "metadata": {},
   "outputs": [
    {
     "data": {
      "text/plain": [
       "<Figure size 1440x720 with 0 Axes>"
      ]
     },
     "metadata": {},
     "output_type": "display_data"
    },
    {
     "data": {
      "image/png": "[encoded data removed]",
      "text/plain": [
       "<Figure size 432x288 with 1 Axes>"
      ]
     },
     "metadata": {
      "needs_background": "light"
     },
     "output_type": "display_data"
    }
   ],
   "source": [
    "# Plot do Information Value\n",
    "\n",
    "# Variáveis categóricas\n",
    "columns_cat = df_analise.drop(columns = ['target',\n",
    "                                 'enrollee_id',\n",
    "                                 'city',\n",
    "                                 'city_development_index',\n",
    "                                 'training_hours',\n",
    "                                 'experience',\n",
    "                                 'last_new_job',\n",
    "                                 'company_size']).columns\n",
    "\n",
    "# Lista para o IV\n",
    "iv = []\n",
    "\n",
    "# Loop\n",
    "for i in columns_cat:\n",
    "    df_woe_iv = (pd.crosstab(df_analise[i], df_analise['target'], normalize = 'columns')\n",
    "                 .assign(woe = lambda dfx: np.log(dfx[1] / dfx[0]))\n",
    "                 .assign(iv = lambda dfx: np.sum(dfx['woe']*(dfx[1]-dfx[0]))))\n",
    "    iv.append(df_woe_iv['iv'][0])\n",
    "\n",
    "# Dataframe\n",
    "df_iv = pd.DataFrame({'Features':columns_cat,'iv':iv}).set_index('Features').sort_values(by = 'iv')\n",
    "\n",
    "# Plot\n",
    "# Figura\n",
    "plt.figure(figsize = (20,10))\n",
    "df_iv.plot(kind = 'barh', title = 'Information Value das Variáveis Categóricas', colormap = \"Accent\")\n",
    "for index, value in enumerate(list(round(df_iv[\"iv\"],3))):\n",
    "    plt.text((value), index, str(value))\n",
    "plt.legend(loc  = \"lower right\")\n",
    "plt.show()"
   ]
  },
  {
   "cell_type": "markdown",
   "id": "433e81e6",
   "metadata": {},
   "source": [
    "* No gráfico acima, podemos ver a ordem dos recursos com base em seu poder preditivo em relação ao alvo.\n",
    "* Com base em seu valor IV, `enrolled_university` é um preditor médio, `relevent_experience` e `education_level` são preditores fracos e os outros são inúteis para a previsão."
   ]
  },
  {
   "cell_type": "markdown",
   "id": "a67a1289",
   "metadata": {},
   "source": [
    "### Identificando Valores Ausentes"
   ]
  },
  {
   "cell_type": "code",
   "execution_count": 41,
   "id": "dc2510c8",
   "metadata": {},
   "outputs": [
    {
     "data": {
      "text/html": [
       "<div>\n",
       "<style scoped>\n",
       "    .dataframe tbody tr th:only-of-type {\n",
       "        vertical-align: middle;\n",
       "    }\n",
       "\n",
       "    .dataframe tbody tr th {\n",
       "        vertical-align: top;\n",
       "    }\n",
       "\n",
       "    .dataframe thead th {\n",
       "        text-align: right;\n",
       "    }\n",
       "</style>\n",
       "<table border=\"1\" class=\"dataframe\">\n",
       "  <thead>\n",
       "    <tr style=\"text-align: right;\">\n",
       "      <th></th>\n",
       "      <th>index</th>\n",
       "      <th>0</th>\n",
       "    </tr>\n",
       "  </thead>\n",
       "  <tbody>\n",
       "    <tr>\n",
       "      <th>0</th>\n",
       "      <td>company_type</td>\n",
       "      <td>6140</td>\n",
       "    </tr>\n",
       "    <tr>\n",
       "      <th>1</th>\n",
       "      <td>company_size</td>\n",
       "      <td>5938</td>\n",
       "    </tr>\n",
       "    <tr>\n",
       "      <th>2</th>\n",
       "      <td>gender</td>\n",
       "      <td>4508</td>\n",
       "    </tr>\n",
       "    <tr>\n",
       "      <th>3</th>\n",
       "      <td>major_discipline</td>\n",
       "      <td>2813</td>\n",
       "    </tr>\n",
       "    <tr>\n",
       "      <th>4</th>\n",
       "      <td>education_level</td>\n",
       "      <td>460</td>\n",
       "    </tr>\n",
       "    <tr>\n",
       "      <th>5</th>\n",
       "      <td>last_new_job</td>\n",
       "      <td>423</td>\n",
       "    </tr>\n",
       "    <tr>\n",
       "      <th>6</th>\n",
       "      <td>enrolled_university</td>\n",
       "      <td>386</td>\n",
       "    </tr>\n",
       "    <tr>\n",
       "      <th>7</th>\n",
       "      <td>experience</td>\n",
       "      <td>65</td>\n",
       "    </tr>\n",
       "    <tr>\n",
       "      <th>8</th>\n",
       "      <td>enrollee_id</td>\n",
       "      <td>0</td>\n",
       "    </tr>\n",
       "    <tr>\n",
       "      <th>9</th>\n",
       "      <td>city</td>\n",
       "      <td>0</td>\n",
       "    </tr>\n",
       "    <tr>\n",
       "      <th>10</th>\n",
       "      <td>city_development_index</td>\n",
       "      <td>0</td>\n",
       "    </tr>\n",
       "    <tr>\n",
       "      <th>11</th>\n",
       "      <td>relevent_experience</td>\n",
       "      <td>0</td>\n",
       "    </tr>\n",
       "    <tr>\n",
       "      <th>12</th>\n",
       "      <td>training_hours</td>\n",
       "      <td>0</td>\n",
       "    </tr>\n",
       "    <tr>\n",
       "      <th>13</th>\n",
       "      <td>target</td>\n",
       "      <td>0</td>\n",
       "    </tr>\n",
       "  </tbody>\n",
       "</table>\n",
       "</div>"
      ],
      "text/plain": [
       "                     index     0\n",
       "0             company_type  6140\n",
       "1             company_size  5938\n",
       "2                   gender  4508\n",
       "3         major_discipline  2813\n",
       "4          education_level   460\n",
       "5             last_new_job   423\n",
       "6      enrolled_university   386\n",
       "7               experience    65\n",
       "8              enrollee_id     0\n",
       "9                     city     0\n",
       "10  city_development_index     0\n",
       "11     relevent_experience     0\n",
       "12          training_hours     0\n",
       "13                  target     0"
      ]
     },
     "execution_count": 41,
     "metadata": {},
     "output_type": "execute_result"
    }
   ],
   "source": [
    "# Valores ausentes\n",
    "\n",
    "null_df = df_analise.isnull().sum().sort_values(ascending=False).reset_index()\n",
    "\n",
    "null_df\n",
    "\n"
   ]
  },
  {
   "cell_type": "code",
   "execution_count": 42,
   "id": "e6d320d3",
   "metadata": {},
   "outputs": [
    {
     "data": {
      "image/png": "[encoded data removed]",
      "text/plain": [
       "<Figure size 1080x360 with 1 Axes>"
      ]
     },
     "metadata": {
      "needs_background": "light"
     },
     "output_type": "display_data"
    }
   ],
   "source": [
    "# Figura\n",
    "ax = plt.figure(figsize = (15,5))\n",
    "\n",
    "# Barplot\n",
    "ax = sns.barplot(null_df['index'], null_df[0], palette = 'husl')\n",
    "plt.xlabel('Atributos', fontsize = 12)\n",
    "plt.ylabel('Contagem de Valores Ausentes', fontsize = 12)\n",
    "plt.xticks(rotation = 45)\n",
    "plt.title(\"Plot de Valores Ausentes\", fontsize = 15)\n",
    "\n",
    "for p in ax.patches:\n",
    "    ax.annotate(f'\\n{p.get_height()}', (p.get_x()+0.4, (p.get_height())), ha = 'center', color = 'black', size = 11)\n",
    "\n",
    "plt.show()"
   ]
  },
  {
   "cell_type": "code",
   "execution_count": 43,
   "id": "ba73a3a8",
   "metadata": {},
   "outputs": [
    {
     "data": {
      "image/png": "[encoded data removed]",
      "text/plain": [
       "<Figure size 1800x720 with 2 Axes>"
      ]
     },
     "metadata": {
      "needs_background": "light"
     },
     "output_type": "display_data"
    }
   ],
   "source": [
    "# Gera a visualização\n",
    "\n",
    "# Dataframe\n",
    "df_nan = pd.DataFrame(df_analise.isna().sum())\n",
    "\n",
    "# Plot - Mapa de Valores Ausentes\n",
    "if df_analise.isna().any(axis = None):\n",
    "    missingno.matrix(df_analise[df_nan[df_nan[0]>0].index])\n",
    "    plt.show()"
   ]
  },
  {
   "cell_type": "markdown",
   "id": "ba078d80",
   "metadata": {},
   "source": [
    "Valores ausentes em cada coluna têm um padrão aleatório."
   ]
  },
  {
   "cell_type": "markdown",
   "id": "a2ddb1e4",
   "metadata": {},
   "source": [
    "### Identificando Valores Duplicados"
   ]
  },
  {
   "cell_type": "code",
   "execution_count": 44,
   "id": "930e08f8",
   "metadata": {},
   "outputs": [
    {
     "data": {
      "text/plain": [
       "0"
      ]
     },
     "execution_count": 44,
     "metadata": {},
     "output_type": "execute_result"
    }
   ],
   "source": [
    "# Checando valores duplicados (não há)\n",
    "df_analise['enrollee_id'].duplicated().sum()"
   ]
  },
  {
   "cell_type": "markdown",
   "id": "167f2f0c",
   "metadata": {},
   "source": [
    "### Identificando Dados Desbalanceados"
   ]
  },
  {
   "cell_type": "code",
   "execution_count": 45,
   "id": "3060416b",
   "metadata": {},
   "outputs": [
    {
     "data": {
      "image/png": "[encoded data removed]",
      "text/plain": [
       "<Figure size 1224x360 with 2 Axes>"
      ]
     },
     "metadata": {
      "needs_background": "light"
     },
     "output_type": "display_data"
    }
   ],
   "source": [
    "# Figura\n",
    "plt.figure(figsize = (17,(100)/20))\n",
    "\n",
    "plt.subplot(121)\n",
    "\n",
    "plt.pie(round(df_analise['target'].value_counts() / len(df) * 100, 2),\n",
    "        labels = list(df_analise['target'].value_counts().index),\n",
    "        autopct = \"%.2f%%\",\n",
    "        explode = (0,0.1))\n",
    "\n",
    "plt.axis(\"equal\")\n",
    "plt.title(\"Target Imbalance Ratio\", size = 15)\n",
    "\n",
    "plt.subplot(122)\n",
    "ax = sns.countplot(data = df_analise, x = 'target')\n",
    "plt.title(\"Barplot Target Label\", fontsize = 15)\n",
    "for p in ax.patches:\n",
    "    ax.annotate(f'\\n{p.get_height()}', \n",
    "                (p.get_x()+0.4, \n",
    "                 p.get_height()), \n",
    "                ha = 'center', \n",
    "                va = 'top', \n",
    "                color = 'white', \n",
    "                size = 12)"
   ]
  },
  {
   "cell_type": "markdown",
   "id": "5ee74e61",
   "metadata": {},
   "source": [
    "Os dados estão desbalanceados em relação à variável target."
   ]
  },
  {
   "cell_type": "markdown",
   "id": "da3fdc67",
   "metadata": {},
   "source": [
    "### Tratando os Valores Ausentes"
   ]
  },
  {
   "cell_type": "code",
   "execution_count": 46,
   "id": "02f28398",
   "metadata": {},
   "outputs": [
    {
     "data": {
      "text/plain": [
       "Index(['enrollee_id', 'city', 'city_development_index', 'gender',\n",
       "       'relevent_experience', 'enrolled_university', 'education_level',\n",
       "       'major_discipline', 'experience', 'company_size', 'company_type',\n",
       "       'last_new_job', 'training_hours', 'target'],\n",
       "      dtype='object')"
      ]
     },
     "execution_count": 46,
     "metadata": {},
     "output_type": "execute_result"
    }
   ],
   "source": [
    "df_analise.columns"
   ]
  },
  {
   "cell_type": "code",
   "execution_count": 47,
   "id": "63672e44",
   "metadata": {},
   "outputs": [],
   "source": [
    "colunas_manter = ['city_development_index', \n",
    "                  'experience', \n",
    "                  'enrolled_university', \n",
    "                  'relevent_experience', \n",
    "                  'education_level',\n",
    "                  'company_type',\n",
    "                  'major_discipline',\n",
    "                  'target']"
   ]
  },
  {
   "cell_type": "code",
   "execution_count": 48,
   "id": "d1d7bd9d",
   "metadata": {},
   "outputs": [],
   "source": [
    "new_df = df_analise[colunas_manter]"
   ]
  },
  {
   "cell_type": "code",
   "execution_count": 49,
   "id": "fdb00373",
   "metadata": {},
   "outputs": [
    {
     "data": {
      "text/html": [
       "<div>\n",
       "<style scoped>\n",
       "    .dataframe tbody tr th:only-of-type {\n",
       "        vertical-align: middle;\n",
       "    }\n",
       "\n",
       "    .dataframe tbody tr th {\n",
       "        vertical-align: top;\n",
       "    }\n",
       "\n",
       "    .dataframe thead th {\n",
       "        text-align: right;\n",
       "    }\n",
       "</style>\n",
       "<table border=\"1\" class=\"dataframe\">\n",
       "  <thead>\n",
       "    <tr style=\"text-align: right;\">\n",
       "      <th></th>\n",
       "      <th>city_development_index</th>\n",
       "      <th>experience</th>\n",
       "      <th>enrolled_university</th>\n",
       "      <th>relevent_experience</th>\n",
       "      <th>education_level</th>\n",
       "      <th>company_type</th>\n",
       "      <th>major_discipline</th>\n",
       "      <th>target</th>\n",
       "    </tr>\n",
       "  </thead>\n",
       "  <tbody>\n",
       "    <tr>\n",
       "      <th>0</th>\n",
       "      <td>0.920</td>\n",
       "      <td>21.0</td>\n",
       "      <td>no_enrollment</td>\n",
       "      <td>Has relevent experience</td>\n",
       "      <td>Graduate</td>\n",
       "      <td>NaN</td>\n",
       "      <td>STEM</td>\n",
       "      <td>1.0</td>\n",
       "    </tr>\n",
       "    <tr>\n",
       "      <th>1</th>\n",
       "      <td>0.776</td>\n",
       "      <td>15.0</td>\n",
       "      <td>no_enrollment</td>\n",
       "      <td>No relevent experience</td>\n",
       "      <td>Graduate</td>\n",
       "      <td>Pvt Ltd</td>\n",
       "      <td>STEM</td>\n",
       "      <td>0.0</td>\n",
       "    </tr>\n",
       "    <tr>\n",
       "      <th>2</th>\n",
       "      <td>0.624</td>\n",
       "      <td>5.0</td>\n",
       "      <td>Full time course</td>\n",
       "      <td>No relevent experience</td>\n",
       "      <td>Graduate</td>\n",
       "      <td>NaN</td>\n",
       "      <td>STEM</td>\n",
       "      <td>0.0</td>\n",
       "    </tr>\n",
       "    <tr>\n",
       "      <th>3</th>\n",
       "      <td>0.789</td>\n",
       "      <td>1.0</td>\n",
       "      <td>NaN</td>\n",
       "      <td>No relevent experience</td>\n",
       "      <td>Graduate</td>\n",
       "      <td>Pvt Ltd</td>\n",
       "      <td>Business Degree</td>\n",
       "      <td>1.0</td>\n",
       "    </tr>\n",
       "    <tr>\n",
       "      <th>4</th>\n",
       "      <td>0.767</td>\n",
       "      <td>21.0</td>\n",
       "      <td>no_enrollment</td>\n",
       "      <td>Has relevent experience</td>\n",
       "      <td>Masters</td>\n",
       "      <td>Funded Startup</td>\n",
       "      <td>STEM</td>\n",
       "      <td>0.0</td>\n",
       "    </tr>\n",
       "  </tbody>\n",
       "</table>\n",
       "</div>"
      ],
      "text/plain": [
       "   city_development_index  experience enrolled_university  \\\n",
       "0                   0.920        21.0       no_enrollment   \n",
       "1                   0.776        15.0       no_enrollment   \n",
       "2                   0.624         5.0    Full time course   \n",
       "3                   0.789         1.0                 NaN   \n",
       "4                   0.767        21.0       no_enrollment   \n",
       "\n",
       "       relevent_experience education_level    company_type major_discipline  \\\n",
       "0  Has relevent experience        Graduate             NaN             STEM   \n",
       "1   No relevent experience        Graduate         Pvt Ltd             STEM   \n",
       "2   No relevent experience        Graduate             NaN             STEM   \n",
       "3   No relevent experience        Graduate         Pvt Ltd  Business Degree   \n",
       "4  Has relevent experience         Masters  Funded Startup             STEM   \n",
       "\n",
       "   target  \n",
       "0     1.0  \n",
       "1     0.0  \n",
       "2     0.0  \n",
       "3     1.0  \n",
       "4     0.0  "
      ]
     },
     "execution_count": 49,
     "metadata": {},
     "output_type": "execute_result"
    }
   ],
   "source": [
    "new_df.head()"
   ]
  },
  {
   "cell_type": "code",
   "execution_count": 50,
   "id": "0ecf4978",
   "metadata": {},
   "outputs": [
    {
     "data": {
      "text/html": [
       "<div>\n",
       "<style scoped>\n",
       "    .dataframe tbody tr th:only-of-type {\n",
       "        vertical-align: middle;\n",
       "    }\n",
       "\n",
       "    .dataframe tbody tr th {\n",
       "        vertical-align: top;\n",
       "    }\n",
       "\n",
       "    .dataframe thead th {\n",
       "        text-align: right;\n",
       "    }\n",
       "</style>\n",
       "<table border=\"1\" class=\"dataframe\">\n",
       "  <thead>\n",
       "    <tr style=\"text-align: right;\">\n",
       "      <th></th>\n",
       "      <th>enrollee_id</th>\n",
       "      <th>city</th>\n",
       "      <th>city_development_index</th>\n",
       "      <th>gender</th>\n",
       "      <th>relevent_experience</th>\n",
       "      <th>enrolled_university</th>\n",
       "      <th>education_level</th>\n",
       "      <th>major_discipline</th>\n",
       "      <th>experience</th>\n",
       "      <th>company_size</th>\n",
       "      <th>company_type</th>\n",
       "      <th>last_new_job</th>\n",
       "      <th>training_hours</th>\n",
       "      <th>target</th>\n",
       "    </tr>\n",
       "  </thead>\n",
       "  <tbody>\n",
       "    <tr>\n",
       "      <th>0</th>\n",
       "      <td>8949</td>\n",
       "      <td>city_103</td>\n",
       "      <td>0.920</td>\n",
       "      <td>Male</td>\n",
       "      <td>Has relevent experience</td>\n",
       "      <td>no_enrollment</td>\n",
       "      <td>Graduate</td>\n",
       "      <td>STEM</td>\n",
       "      <td>21.0</td>\n",
       "      <td>NaN</td>\n",
       "      <td>NaN</td>\n",
       "      <td>1.0</td>\n",
       "      <td>36</td>\n",
       "      <td>1.0</td>\n",
       "    </tr>\n",
       "    <tr>\n",
       "      <th>1</th>\n",
       "      <td>29725</td>\n",
       "      <td>city_40</td>\n",
       "      <td>0.776</td>\n",
       "      <td>Male</td>\n",
       "      <td>No relevent experience</td>\n",
       "      <td>no_enrollment</td>\n",
       "      <td>Graduate</td>\n",
       "      <td>STEM</td>\n",
       "      <td>15.0</td>\n",
       "      <td>50-99</td>\n",
       "      <td>Pvt Ltd</td>\n",
       "      <td>5.0</td>\n",
       "      <td>47</td>\n",
       "      <td>0.0</td>\n",
       "    </tr>\n",
       "    <tr>\n",
       "      <th>2</th>\n",
       "      <td>11561</td>\n",
       "      <td>city_21</td>\n",
       "      <td>0.624</td>\n",
       "      <td>NaN</td>\n",
       "      <td>No relevent experience</td>\n",
       "      <td>Full time course</td>\n",
       "      <td>Graduate</td>\n",
       "      <td>STEM</td>\n",
       "      <td>5.0</td>\n",
       "      <td>NaN</td>\n",
       "      <td>NaN</td>\n",
       "      <td>0.0</td>\n",
       "      <td>83</td>\n",
       "      <td>0.0</td>\n",
       "    </tr>\n",
       "    <tr>\n",
       "      <th>3</th>\n",
       "      <td>33241</td>\n",
       "      <td>city_115</td>\n",
       "      <td>0.789</td>\n",
       "      <td>NaN</td>\n",
       "      <td>No relevent experience</td>\n",
       "      <td>NaN</td>\n",
       "      <td>Graduate</td>\n",
       "      <td>Business Degree</td>\n",
       "      <td>1.0</td>\n",
       "      <td>NaN</td>\n",
       "      <td>Pvt Ltd</td>\n",
       "      <td>0.0</td>\n",
       "      <td>52</td>\n",
       "      <td>1.0</td>\n",
       "    </tr>\n",
       "    <tr>\n",
       "      <th>4</th>\n",
       "      <td>666</td>\n",
       "      <td>city_162</td>\n",
       "      <td>0.767</td>\n",
       "      <td>Male</td>\n",
       "      <td>Has relevent experience</td>\n",
       "      <td>no_enrollment</td>\n",
       "      <td>Masters</td>\n",
       "      <td>STEM</td>\n",
       "      <td>21.0</td>\n",
       "      <td>50-99</td>\n",
       "      <td>Funded Startup</td>\n",
       "      <td>4.0</td>\n",
       "      <td>8</td>\n",
       "      <td>0.0</td>\n",
       "    </tr>\n",
       "  </tbody>\n",
       "</table>\n",
       "</div>"
      ],
      "text/plain": [
       "   enrollee_id      city  city_development_index gender  \\\n",
       "0         8949  city_103                   0.920   Male   \n",
       "1        29725   city_40                   0.776   Male   \n",
       "2        11561   city_21                   0.624    NaN   \n",
       "3        33241  city_115                   0.789    NaN   \n",
       "4          666  city_162                   0.767   Male   \n",
       "\n",
       "       relevent_experience enrolled_university education_level  \\\n",
       "0  Has relevent experience       no_enrollment        Graduate   \n",
       "1   No relevent experience       no_enrollment        Graduate   \n",
       "2   No relevent experience    Full time course        Graduate   \n",
       "3   No relevent experience                 NaN        Graduate   \n",
       "4  Has relevent experience       no_enrollment         Masters   \n",
       "\n",
       "  major_discipline  experience company_size    company_type  last_new_job  \\\n",
       "0             STEM        21.0          NaN             NaN           1.0   \n",
       "1             STEM        15.0        50-99         Pvt Ltd           5.0   \n",
       "2             STEM         5.0          NaN             NaN           0.0   \n",
       "3  Business Degree         1.0          NaN         Pvt Ltd           0.0   \n",
       "4             STEM        21.0        50-99  Funded Startup           4.0   \n",
       "\n",
       "   training_hours  target  \n",
       "0              36     1.0  \n",
       "1              47     0.0  \n",
       "2              83     0.0  \n",
       "3              52     1.0  \n",
       "4               8     0.0  "
      ]
     },
     "execution_count": 50,
     "metadata": {},
     "output_type": "execute_result"
    }
   ],
   "source": [
    "df_analise.head()"
   ]
  },
  {
   "cell_type": "code",
   "execution_count": 51,
   "id": "d3f69ba6",
   "metadata": {},
   "outputs": [
    {
     "data": {
      "text/html": [
       "<div>\n",
       "<style scoped>\n",
       "    .dataframe tbody tr th:only-of-type {\n",
       "        vertical-align: middle;\n",
       "    }\n",
       "\n",
       "    .dataframe tbody tr th {\n",
       "        vertical-align: top;\n",
       "    }\n",
       "\n",
       "    .dataframe thead th {\n",
       "        text-align: right;\n",
       "    }\n",
       "</style>\n",
       "<table border=\"1\" class=\"dataframe\">\n",
       "  <thead>\n",
       "    <tr style=\"text-align: right;\">\n",
       "      <th></th>\n",
       "      <th>index</th>\n",
       "      <th>0</th>\n",
       "    </tr>\n",
       "  </thead>\n",
       "  <tbody>\n",
       "    <tr>\n",
       "      <th>0</th>\n",
       "      <td>company_type</td>\n",
       "      <td>6140</td>\n",
       "    </tr>\n",
       "    <tr>\n",
       "      <th>1</th>\n",
       "      <td>major_discipline</td>\n",
       "      <td>2813</td>\n",
       "    </tr>\n",
       "    <tr>\n",
       "      <th>2</th>\n",
       "      <td>education_level</td>\n",
       "      <td>460</td>\n",
       "    </tr>\n",
       "    <tr>\n",
       "      <th>3</th>\n",
       "      <td>enrolled_university</td>\n",
       "      <td>386</td>\n",
       "    </tr>\n",
       "    <tr>\n",
       "      <th>4</th>\n",
       "      <td>experience</td>\n",
       "      <td>65</td>\n",
       "    </tr>\n",
       "    <tr>\n",
       "      <th>5</th>\n",
       "      <td>city_development_index</td>\n",
       "      <td>0</td>\n",
       "    </tr>\n",
       "    <tr>\n",
       "      <th>6</th>\n",
       "      <td>relevent_experience</td>\n",
       "      <td>0</td>\n",
       "    </tr>\n",
       "    <tr>\n",
       "      <th>7</th>\n",
       "      <td>target</td>\n",
       "      <td>0</td>\n",
       "    </tr>\n",
       "  </tbody>\n",
       "</table>\n",
       "</div>"
      ],
      "text/plain": [
       "                    index     0\n",
       "0            company_type  6140\n",
       "1        major_discipline  2813\n",
       "2         education_level   460\n",
       "3     enrolled_university   386\n",
       "4              experience    65\n",
       "5  city_development_index     0\n",
       "6     relevent_experience     0\n",
       "7                  target     0"
      ]
     },
     "execution_count": 51,
     "metadata": {},
     "output_type": "execute_result"
    }
   ],
   "source": [
    "# Valores ausentes\n",
    "\n",
    "null_df = new_df.isnull().sum().sort_values(ascending=False).reset_index()\n",
    "\n",
    "null_df\n"
   ]
  },
  {
   "cell_type": "code",
   "execution_count": 52,
   "id": "a53b01bd",
   "metadata": {},
   "outputs": [
    {
     "data": {
      "image/png": "[encoded data removed]",
      "text/plain": [
       "<Figure size 1080x360 with 1 Axes>"
      ]
     },
     "metadata": {
      "needs_background": "light"
     },
     "output_type": "display_data"
    }
   ],
   "source": [
    "# Figura\n",
    "ax = plt.figure(figsize = (15,5))\n",
    "\n",
    "# Barplot\n",
    "ax = sns.barplot(null_df['index'], null_df[0], palette = 'husl')\n",
    "plt.xlabel('Atributos', fontsize = 12)\n",
    "plt.ylabel('Contagem de Valores Ausentes', fontsize = 12)\n",
    "plt.xticks(rotation = 45)\n",
    "plt.title(\"Plot de Valores Ausentes\", fontsize = 15)\n",
    "\n",
    "for p in ax.patches:\n",
    "    ax.annotate(f'\\n{p.get_height()}', (p.get_x()+0.4, (p.get_height())), ha = 'center', color = 'black', size = 11)\n",
    "\n",
    "plt.show()"
   ]
  },
  {
   "cell_type": "markdown",
   "id": "ca2be620",
   "metadata": {},
   "source": [
    "#### Variável major_discipline"
   ]
  },
  {
   "cell_type": "code",
   "execution_count": 53,
   "id": "387b6264",
   "metadata": {},
   "outputs": [
    {
     "data": {
      "image/png": "[encoded data removed]",
      "text/plain": [
       "<Figure size 432x288 with 1 Axes>"
      ]
     },
     "metadata": {
      "needs_background": "light"
     },
     "output_type": "display_data"
    }
   ],
   "source": [
    "# Valores Ausentes da Variável major_discipline Antes do Processamento\n",
    "sns.countplot(data = new_df.fillna('NaN'), x = 'major_discipline', alpha = 0.7, edgecolor = 'black')\n",
    "plt.xticks(rotation = 45)\n",
    "bound = ax.get_xbound()\n",
    "ax = plt.gca()\n",
    "for p in ax.patches:\n",
    "    ax.annotate(f'\\n{p.get_height()}', (p.get_x()+0.4, p.get_height()), ha = 'center', color = 'black', size = 10)\n",
    "plt.title(\"Valores Ausentes da Variável major_discipline Antes do Processamento\\n\", fontsize = 15)\n",
    "plt.show()"
   ]
  },
  {
   "cell_type": "code",
   "execution_count": 54,
   "id": "fde65ccd",
   "metadata": {},
   "outputs": [
    {
     "name": "stdout",
     "output_type": "stream",
     "text": [
      "\n",
      "Total de Valores Ausentes na Variável major_discipline: 2813\n",
      "\n",
      "Proporção de Valores Ausentes na Variável education_level:\n"
     ]
    },
    {
     "data": {
      "text/plain": [
       "High School       2017\n",
       "NaN                460\n",
       "Primary School     308\n",
       "Graduate            22\n",
       "Masters              6\n",
       "Name: education_level, dtype: int64"
      ]
     },
     "execution_count": 54,
     "metadata": {},
     "output_type": "execute_result"
    }
   ],
   "source": [
    "# Relação entre major_discipline x education_level\n",
    "print('\\nTotal de Valores Ausentes na Variável major_discipline:', new_df['major_discipline'].isna().sum())\n",
    "print('\\nProporção de Valores Ausentes na Variável education_level:')\n",
    "new_df[new_df['major_discipline'].isna()]['education_level'].value_counts(dropna = False)"
   ]
  },
  {
   "cell_type": "markdown",
   "id": "946ef130",
   "metadata": {},
   "source": [
    "Dentre os registros com valores ausentes, vemos a proporção na variável education_level.\n",
    "\n",
    "Preencheremos os valores NA da variável `major_discipline` com `Non Degree`."
   ]
  },
  {
   "cell_type": "code",
   "execution_count": 55,
   "id": "2580c35e",
   "metadata": {},
   "outputs": [],
   "source": [
    "# Cria o índice\n",
    "nan_index = (new_df[(new_df['major_discipline'].isna()) & ((new_df['education_level']=='High School') | (new_df['education_level'].isna()) | (new_df['education_level']=='Primary School'))]).index"
   ]
  },
  {
   "cell_type": "code",
   "execution_count": 56,
   "id": "ac876013",
   "metadata": {},
   "outputs": [
    {
     "data": {
      "text/plain": [
       "2785"
      ]
     },
     "execution_count": 56,
     "metadata": {},
     "output_type": "execute_result"
    }
   ],
   "source": [
    "len(nan_index)"
   ]
  },
  {
   "cell_type": "code",
   "execution_count": 57,
   "id": "ae539405",
   "metadata": {},
   "outputs": [],
   "source": [
    "# Imputação do valor ausente\n",
    "new_df['major_discipline'][nan_index] = 'Non Degree'"
   ]
  },
  {
   "cell_type": "code",
   "execution_count": 58,
   "id": "3d7716cf",
   "metadata": {},
   "outputs": [
    {
     "name": "stdout",
     "output_type": "stream",
     "text": [
      "Total de Valores Ausentes na Variável major_discipline: 28\n"
     ]
    },
    {
     "data": {
      "text/plain": [
       "STEM               14492\n",
       "Non Degree          2785\n",
       "Humanities           669\n",
       "Other                381\n",
       "Business Degree      327\n",
       "Arts                 253\n",
       "No Major             223\n",
       "NaN                   28\n",
       "Name: major_discipline, dtype: int64"
      ]
     },
     "execution_count": 58,
     "metadata": {},
     "output_type": "execute_result"
    }
   ],
   "source": [
    "print('Total de Valores Ausentes na Variável major_discipline:', new_df['major_discipline'].isna().sum())\n",
    "new_df['major_discipline'].value_counts(dropna = False)"
   ]
  },
  {
   "cell_type": "code",
   "execution_count": 59,
   "id": "21e9d047",
   "metadata": {},
   "outputs": [
    {
     "data": {
      "image/png": "[encoded data removed]",
      "text/plain": [
       "<Figure size 432x288 with 1 Axes>"
      ]
     },
     "metadata": {
      "needs_background": "light"
     },
     "output_type": "display_data"
    }
   ],
   "source": [
    "# Valores Ausentes da Variável major_discipline Após o Processamento\n",
    "sns.countplot(data = new_df.fillna('NaN'), x = 'major_discipline', alpha = 0.7, edgecolor = 'black')\n",
    "sns.despine()\n",
    "plt.xticks(rotation=45)\n",
    "bound=ax.get_xbound()\n",
    "ax=plt.gca()\n",
    "for p in ax.patches:\n",
    "    ax.annotate(f'\\n{p.get_height()}', (p.get_x()+0.4, p.get_height()), ha = 'center', color = 'black', size = 10)\n",
    "plt.title(\" Valores Ausentes da Variável major_discipline Após o Processamento\\n\", fontsize = 15)\n",
    "plt.show()"
   ]
  },
  {
   "cell_type": "code",
   "execution_count": 60,
   "id": "72cf4f8b",
   "metadata": {},
   "outputs": [],
   "source": [
    "# Para os valores ausentes restantes preenchemos com 'Other'\n",
    "new_df[new_df['major_discipline'].isna()]  = 'Other'"
   ]
  },
  {
   "cell_type": "code",
   "execution_count": 61,
   "id": "a3cf83e0",
   "metadata": {},
   "outputs": [
    {
     "data": {
      "image/png": "[encoded data removed]",
      "text/plain": [
       "<Figure size 432x288 with 1 Axes>"
      ]
     },
     "metadata": {
      "needs_background": "light"
     },
     "output_type": "display_data"
    }
   ],
   "source": [
    "# Valores Ausentes da Variável major_discipline Após o Processamento\n",
    "sns.countplot(data = new_df.fillna('NaN'), x = 'major_discipline', alpha = 0.7, edgecolor = 'black')\n",
    "sns.despine()\n",
    "plt.xticks(rotation=45)\n",
    "bound=ax.get_xbound()\n",
    "ax=plt.gca()\n",
    "for p in ax.patches:\n",
    "    ax.annotate(f'\\n{p.get_height()}', (p.get_x()+0.4, p.get_height()), ha = 'center', color = 'black', size = 10)\n",
    "plt.title(\" Valores Ausentes da Variável major_discipline Após o Processamento\\n\", fontsize = 15)\n",
    "plt.show()"
   ]
  },
  {
   "cell_type": "code",
   "execution_count": 62,
   "id": "0037417b",
   "metadata": {},
   "outputs": [
    {
     "data": {
      "text/html": [
       "<div>\n",
       "<style scoped>\n",
       "    .dataframe tbody tr th:only-of-type {\n",
       "        vertical-align: middle;\n",
       "    }\n",
       "\n",
       "    .dataframe tbody tr th {\n",
       "        vertical-align: top;\n",
       "    }\n",
       "\n",
       "    .dataframe thead th {\n",
       "        text-align: right;\n",
       "    }\n",
       "</style>\n",
       "<table border=\"1\" class=\"dataframe\">\n",
       "  <thead>\n",
       "    <tr style=\"text-align: right;\">\n",
       "      <th></th>\n",
       "      <th>city_development_index</th>\n",
       "      <th>experience</th>\n",
       "      <th>enrolled_university</th>\n",
       "      <th>relevent_experience</th>\n",
       "      <th>education_level</th>\n",
       "      <th>company_type</th>\n",
       "      <th>major_discipline</th>\n",
       "      <th>target</th>\n",
       "    </tr>\n",
       "  </thead>\n",
       "  <tbody>\n",
       "    <tr>\n",
       "      <th>0</th>\n",
       "      <td>0.92</td>\n",
       "      <td>21.0</td>\n",
       "      <td>no_enrollment</td>\n",
       "      <td>Has relevent experience</td>\n",
       "      <td>Graduate</td>\n",
       "      <td>NaN</td>\n",
       "      <td>STEM</td>\n",
       "      <td>1.0</td>\n",
       "    </tr>\n",
       "    <tr>\n",
       "      <th>1</th>\n",
       "      <td>0.776</td>\n",
       "      <td>15.0</td>\n",
       "      <td>no_enrollment</td>\n",
       "      <td>No relevent experience</td>\n",
       "      <td>Graduate</td>\n",
       "      <td>Pvt Ltd</td>\n",
       "      <td>STEM</td>\n",
       "      <td>0.0</td>\n",
       "    </tr>\n",
       "    <tr>\n",
       "      <th>2</th>\n",
       "      <td>0.624</td>\n",
       "      <td>5.0</td>\n",
       "      <td>Full time course</td>\n",
       "      <td>No relevent experience</td>\n",
       "      <td>Graduate</td>\n",
       "      <td>NaN</td>\n",
       "      <td>STEM</td>\n",
       "      <td>0.0</td>\n",
       "    </tr>\n",
       "    <tr>\n",
       "      <th>3</th>\n",
       "      <td>0.789</td>\n",
       "      <td>1.0</td>\n",
       "      <td>NaN</td>\n",
       "      <td>No relevent experience</td>\n",
       "      <td>Graduate</td>\n",
       "      <td>Pvt Ltd</td>\n",
       "      <td>Business Degree</td>\n",
       "      <td>1.0</td>\n",
       "    </tr>\n",
       "    <tr>\n",
       "      <th>4</th>\n",
       "      <td>0.767</td>\n",
       "      <td>21.0</td>\n",
       "      <td>no_enrollment</td>\n",
       "      <td>Has relevent experience</td>\n",
       "      <td>Masters</td>\n",
       "      <td>Funded Startup</td>\n",
       "      <td>STEM</td>\n",
       "      <td>0.0</td>\n",
       "    </tr>\n",
       "  </tbody>\n",
       "</table>\n",
       "</div>"
      ],
      "text/plain": [
       "  city_development_index experience enrolled_university  \\\n",
       "0                   0.92       21.0       no_enrollment   \n",
       "1                  0.776       15.0       no_enrollment   \n",
       "2                  0.624        5.0    Full time course   \n",
       "3                  0.789        1.0                 NaN   \n",
       "4                  0.767       21.0       no_enrollment   \n",
       "\n",
       "       relevent_experience education_level    company_type major_discipline  \\\n",
       "0  Has relevent experience        Graduate             NaN             STEM   \n",
       "1   No relevent experience        Graduate         Pvt Ltd             STEM   \n",
       "2   No relevent experience        Graduate             NaN             STEM   \n",
       "3   No relevent experience        Graduate         Pvt Ltd  Business Degree   \n",
       "4  Has relevent experience         Masters  Funded Startup             STEM   \n",
       "\n",
       "  target  \n",
       "0    1.0  \n",
       "1    0.0  \n",
       "2    0.0  \n",
       "3    1.0  \n",
       "4    0.0  "
      ]
     },
     "execution_count": 62,
     "metadata": {},
     "output_type": "execute_result"
    }
   ],
   "source": [
    "new_df.head()"
   ]
  },
  {
   "cell_type": "markdown",
   "id": "35929334",
   "metadata": {},
   "source": [
    "#### Variável enrolled_university"
   ]
  },
  {
   "cell_type": "code",
   "execution_count": 63,
   "id": "4208e21e",
   "metadata": {},
   "outputs": [
    {
     "data": {
      "image/png": "[encoded data removed]",
      "text/plain": [
       "<Figure size 432x288 with 1 Axes>"
      ]
     },
     "metadata": {
      "needs_background": "light"
     },
     "output_type": "display_data"
    }
   ],
   "source": [
    "# Plot\n",
    "sns.countplot(data = new_df.fillna('NaN'), x = 'enrolled_university', alpha = 0.7, edgecolor = 'black')\n",
    "sns.despine()\n",
    "plt.xticks(rotation=45)\n",
    "plt.xticks()\n",
    "bound=ax.get_xbound()\n",
    "ax=plt.gca()\n",
    "for p in ax.patches:\n",
    "    ax.annotate(f'\\n{p.get_height()}', (p.get_x()+0.4, p.get_height()), ha = 'center', color = 'black', size = 10)\n",
    "plt.title(\"Valores Ausentes da Variável enrolled_university Antes do Processamento\\n\", fontsize = 15)\n",
    "plt.show()"
   ]
  },
  {
   "cell_type": "code",
   "execution_count": 64,
   "id": "ae9e73d0",
   "metadata": {},
   "outputs": [
    {
     "name": "stdout",
     "output_type": "stream",
     "text": [
      "\n",
      "Total de Valores Ausentes na Variável enrolled_university: 385\n",
      "\n",
      "Proporção de Valores Ausentes na Variável education_level:\n"
     ]
    },
    {
     "data": {
      "text/plain": [
       "Graduate          170\n",
       "NaN               100\n",
       "Masters            53\n",
       "High School        47\n",
       "Primary School      9\n",
       "Phd                 6\n",
       "Name: education_level, dtype: int64"
      ]
     },
     "execution_count": 64,
     "metadata": {},
     "output_type": "execute_result"
    }
   ],
   "source": [
    "print('\\nTotal de Valores Ausentes na Variável enrolled_university:', new_df['enrolled_university'].isna().sum())\n",
    "print('\\nProporção de Valores Ausentes na Variável education_level:')\n",
    "new_df[new_df['enrolled_university'].isna()]['education_level'].value_counts(dropna = False)"
   ]
  },
  {
   "cell_type": "markdown",
   "id": "48acc033",
   "metadata": {},
   "source": [
    "Candidatos com `Primary School` como `education_level` não estão qualificados para ingressar na universidade. Portanto, preencheremos valores `NaN` em `education_level` para `Primary Grad`."
   ]
  },
  {
   "cell_type": "code",
   "execution_count": 65,
   "id": "3734bcf8",
   "metadata": {},
   "outputs": [],
   "source": [
    "# Prepara o índice\n",
    "nan_index = (new_df[(new_df['enrolled_university'].isna()) & (new_df['education_level']=='Primary School')]).index"
   ]
  },
  {
   "cell_type": "code",
   "execution_count": 66,
   "id": "832df8d3",
   "metadata": {},
   "outputs": [
    {
     "data": {
      "text/plain": [
       "9"
      ]
     },
     "execution_count": 66,
     "metadata": {},
     "output_type": "execute_result"
    }
   ],
   "source": [
    "len(nan_index)"
   ]
  },
  {
   "cell_type": "code",
   "execution_count": 67,
   "id": "f6d55246",
   "metadata": {},
   "outputs": [],
   "source": [
    "# Imputação de valores ausentes\n",
    "new_df['enrolled_university'][nan_index] = 'Primary Grad'"
   ]
  },
  {
   "cell_type": "code",
   "execution_count": 68,
   "id": "130a17f0",
   "metadata": {},
   "outputs": [
    {
     "name": "stdout",
     "output_type": "stream",
     "text": [
      "Total de Valores Ausentes: 376\n"
     ]
    },
    {
     "data": {
      "text/plain": [
       "Graduate       170\n",
       "NaN            100\n",
       "Masters         53\n",
       "High School     47\n",
       "Phd              6\n",
       "Name: education_level, dtype: int64"
      ]
     },
     "execution_count": 68,
     "metadata": {},
     "output_type": "execute_result"
    }
   ],
   "source": [
    "print('Total de Valores Ausentes:', new_df['enrolled_university'].isna().sum())\n",
    "new_df[new_df['enrolled_university'].isna()]['education_level'].value_counts(dropna = False)"
   ]
  },
  {
   "cell_type": "code",
   "execution_count": 69,
   "id": "31bdc7ad",
   "metadata": {},
   "outputs": [],
   "source": [
    "# Prepara o índice\n",
    "nan_index = new_df[(new_df['enrolled_university'].isna())].index"
   ]
  },
  {
   "cell_type": "code",
   "execution_count": 70,
   "id": "a24d39a3",
   "metadata": {},
   "outputs": [],
   "source": [
    "# O restante colocamos como 'Other'\n",
    "new_df['enrolled_university'][nan_index] = 'Other'"
   ]
  },
  {
   "cell_type": "code",
   "execution_count": 71,
   "id": "81eba6a5",
   "metadata": {},
   "outputs": [
    {
     "data": {
      "image/png": "[encoded data removed]",
      "text/plain": [
       "<Figure size 432x288 with 1 Axes>"
      ]
     },
     "metadata": {
      "needs_background": "light"
     },
     "output_type": "display_data"
    }
   ],
   "source": [
    "# Plot\n",
    "sns.countplot(data = new_df.fillna('NaN'), x = 'enrolled_university', alpha = 0.7, edgecolor = 'black')\n",
    "sns.despine()\n",
    "plt.xticks(rotation=45)\n",
    "plt.xticks()\n",
    "bound=ax.get_xbound()\n",
    "ax=plt.gca()\n",
    "for p in ax.patches:\n",
    "    ax.annotate(f'\\n{p.get_height()}', (p.get_x()+0.4, p.get_height()), ha = 'center', color = 'black', size = 10)\n",
    "plt.title(\"Valores Ausentes da Variável enrolled_university Após o Processamento\\n\", fontsize = 15)\n",
    "plt.show()"
   ]
  },
  {
   "cell_type": "code",
   "execution_count": 72,
   "id": "dac893df",
   "metadata": {},
   "outputs": [
    {
     "data": {
      "text/html": [
       "<div>\n",
       "<style scoped>\n",
       "    .dataframe tbody tr th:only-of-type {\n",
       "        vertical-align: middle;\n",
       "    }\n",
       "\n",
       "    .dataframe tbody tr th {\n",
       "        vertical-align: top;\n",
       "    }\n",
       "\n",
       "    .dataframe thead th {\n",
       "        text-align: right;\n",
       "    }\n",
       "</style>\n",
       "<table border=\"1\" class=\"dataframe\">\n",
       "  <thead>\n",
       "    <tr style=\"text-align: right;\">\n",
       "      <th></th>\n",
       "      <th>city_development_index</th>\n",
       "      <th>experience</th>\n",
       "      <th>enrolled_university</th>\n",
       "      <th>relevent_experience</th>\n",
       "      <th>education_level</th>\n",
       "      <th>company_type</th>\n",
       "      <th>major_discipline</th>\n",
       "      <th>target</th>\n",
       "    </tr>\n",
       "  </thead>\n",
       "  <tbody>\n",
       "    <tr>\n",
       "      <th>0</th>\n",
       "      <td>0.92</td>\n",
       "      <td>21.0</td>\n",
       "      <td>no_enrollment</td>\n",
       "      <td>Has relevent experience</td>\n",
       "      <td>Graduate</td>\n",
       "      <td>NaN</td>\n",
       "      <td>STEM</td>\n",
       "      <td>1.0</td>\n",
       "    </tr>\n",
       "    <tr>\n",
       "      <th>1</th>\n",
       "      <td>0.776</td>\n",
       "      <td>15.0</td>\n",
       "      <td>no_enrollment</td>\n",
       "      <td>No relevent experience</td>\n",
       "      <td>Graduate</td>\n",
       "      <td>Pvt Ltd</td>\n",
       "      <td>STEM</td>\n",
       "      <td>0.0</td>\n",
       "    </tr>\n",
       "    <tr>\n",
       "      <th>2</th>\n",
       "      <td>0.624</td>\n",
       "      <td>5.0</td>\n",
       "      <td>Full time course</td>\n",
       "      <td>No relevent experience</td>\n",
       "      <td>Graduate</td>\n",
       "      <td>NaN</td>\n",
       "      <td>STEM</td>\n",
       "      <td>0.0</td>\n",
       "    </tr>\n",
       "    <tr>\n",
       "      <th>3</th>\n",
       "      <td>0.789</td>\n",
       "      <td>1.0</td>\n",
       "      <td>Other</td>\n",
       "      <td>No relevent experience</td>\n",
       "      <td>Graduate</td>\n",
       "      <td>Pvt Ltd</td>\n",
       "      <td>Business Degree</td>\n",
       "      <td>1.0</td>\n",
       "    </tr>\n",
       "    <tr>\n",
       "      <th>4</th>\n",
       "      <td>0.767</td>\n",
       "      <td>21.0</td>\n",
       "      <td>no_enrollment</td>\n",
       "      <td>Has relevent experience</td>\n",
       "      <td>Masters</td>\n",
       "      <td>Funded Startup</td>\n",
       "      <td>STEM</td>\n",
       "      <td>0.0</td>\n",
       "    </tr>\n",
       "  </tbody>\n",
       "</table>\n",
       "</div>"
      ],
      "text/plain": [
       "  city_development_index experience enrolled_university  \\\n",
       "0                   0.92       21.0       no_enrollment   \n",
       "1                  0.776       15.0       no_enrollment   \n",
       "2                  0.624        5.0    Full time course   \n",
       "3                  0.789        1.0               Other   \n",
       "4                  0.767       21.0       no_enrollment   \n",
       "\n",
       "       relevent_experience education_level    company_type major_discipline  \\\n",
       "0  Has relevent experience        Graduate             NaN             STEM   \n",
       "1   No relevent experience        Graduate         Pvt Ltd             STEM   \n",
       "2   No relevent experience        Graduate             NaN             STEM   \n",
       "3   No relevent experience        Graduate         Pvt Ltd  Business Degree   \n",
       "4  Has relevent experience         Masters  Funded Startup             STEM   \n",
       "\n",
       "  target  \n",
       "0    1.0  \n",
       "1    0.0  \n",
       "2    0.0  \n",
       "3    1.0  \n",
       "4    0.0  "
      ]
     },
     "execution_count": 72,
     "metadata": {},
     "output_type": "execute_result"
    }
   ],
   "source": [
    "new_df.head()"
   ]
  },
  {
   "cell_type": "markdown",
   "id": "4aa061c9",
   "metadata": {},
   "source": [
    "#### Variável company_type"
   ]
  },
  {
   "cell_type": "code",
   "execution_count": 73,
   "id": "677e1694",
   "metadata": {},
   "outputs": [
    {
     "data": {
      "image/png": "[encoded data removed]",
      "text/plain": [
       "<Figure size 1440x1440 with 1 Axes>"
      ]
     },
     "metadata": {
      "needs_background": "light"
     },
     "output_type": "display_data"
    }
   ],
   "source": [
    "# Plot\n",
    "plt.figure(figsize = (20, 20))\n",
    "column_list = ['company_type']\n",
    "A = 0\n",
    "for i in column_list:\n",
    "    A+=1\n",
    "    plt.subplot(4,2,A)\n",
    "    ax = sns.countplot(data = new_df.fillna('NaN'), x = i, alpha = 0.7, edgecolor = 'black')\n",
    "    sns.despine() \n",
    "    plt.title(i, fontsize = 15)\n",
    "    for p in ax.patches:\n",
    "        ax.annotate(f'\\n{p.get_height()}', (p.get_x()+0.4, p.get_height()), ha = 'center', color = 'black', size = 12)\n",
    "    if A >=0:\n",
    "        plt.xticks(rotation = 45)"
   ]
  },
  {
   "cell_type": "code",
   "execution_count": 74,
   "id": "f19ab194",
   "metadata": {},
   "outputs": [
    {
     "data": {
      "text/plain": [
       "Pvt Ltd                9802\n",
       "NaN                    6129\n",
       "Funded Startup         1001\n",
       "Public Sector           953\n",
       "Early Stage Startup     603\n",
       "NGO                     521\n",
       "Other                   149\n",
       "Name: company_type, dtype: int64"
      ]
     },
     "execution_count": 74,
     "metadata": {},
     "output_type": "execute_result"
    }
   ],
   "source": [
    "new_df['company_type'].value_counts(dropna = False)"
   ]
  },
  {
   "cell_type": "code",
   "execution_count": 75,
   "id": "238a1638",
   "metadata": {},
   "outputs": [],
   "source": [
    "# Índice\n",
    "nan_index = new_df[(new_df['company_type'].isna())].index"
   ]
  },
  {
   "cell_type": "code",
   "execution_count": 76,
   "id": "e982aa09",
   "metadata": {},
   "outputs": [],
   "source": [
    "# Imputação dos valores NaN com 'Other'\n",
    "new_df['company_type'][nan_index] = 'Other'"
   ]
  },
  {
   "cell_type": "code",
   "execution_count": 77,
   "id": "6388f0c6",
   "metadata": {},
   "outputs": [
    {
     "data": {
      "image/png": "[encoded data removed]",
      "text/plain": [
       "<Figure size 1440x1440 with 1 Axes>"
      ]
     },
     "metadata": {
      "needs_background": "light"
     },
     "output_type": "display_data"
    }
   ],
   "source": [
    "# Plot\n",
    "plt.figure(figsize = (20, 20))\n",
    "column_list = ['company_type']\n",
    "A = 0\n",
    "for i in column_list:\n",
    "    A+=1\n",
    "    plt.subplot(4,2,A)\n",
    "    ax = sns.countplot(data = new_df.fillna('NaN'), x = i, alpha = 0.7, edgecolor = 'black')\n",
    "    sns.despine() \n",
    "    plt.title(i, fontsize = 15)\n",
    "    for p in ax.patches:\n",
    "        ax.annotate(f'\\n{p.get_height()}', (p.get_x()+0.4, p.get_height()), ha = 'center', color = 'black', size = 12)\n",
    "    if A >=0:\n",
    "        plt.xticks(rotation = 45)"
   ]
  },
  {
   "cell_type": "code",
   "execution_count": 78,
   "id": "66467a66",
   "metadata": {},
   "outputs": [
    {
     "data": {
      "text/html": [
       "<div>\n",
       "<style scoped>\n",
       "    .dataframe tbody tr th:only-of-type {\n",
       "        vertical-align: middle;\n",
       "    }\n",
       "\n",
       "    .dataframe tbody tr th {\n",
       "        vertical-align: top;\n",
       "    }\n",
       "\n",
       "    .dataframe thead th {\n",
       "        text-align: right;\n",
       "    }\n",
       "</style>\n",
       "<table border=\"1\" class=\"dataframe\">\n",
       "  <thead>\n",
       "    <tr style=\"text-align: right;\">\n",
       "      <th></th>\n",
       "      <th>city_development_index</th>\n",
       "      <th>experience</th>\n",
       "      <th>enrolled_university</th>\n",
       "      <th>relevent_experience</th>\n",
       "      <th>education_level</th>\n",
       "      <th>company_type</th>\n",
       "      <th>major_discipline</th>\n",
       "      <th>target</th>\n",
       "    </tr>\n",
       "  </thead>\n",
       "  <tbody>\n",
       "    <tr>\n",
       "      <th>0</th>\n",
       "      <td>0.92</td>\n",
       "      <td>21.0</td>\n",
       "      <td>no_enrollment</td>\n",
       "      <td>Has relevent experience</td>\n",
       "      <td>Graduate</td>\n",
       "      <td>Other</td>\n",
       "      <td>STEM</td>\n",
       "      <td>1.0</td>\n",
       "    </tr>\n",
       "    <tr>\n",
       "      <th>1</th>\n",
       "      <td>0.776</td>\n",
       "      <td>15.0</td>\n",
       "      <td>no_enrollment</td>\n",
       "      <td>No relevent experience</td>\n",
       "      <td>Graduate</td>\n",
       "      <td>Pvt Ltd</td>\n",
       "      <td>STEM</td>\n",
       "      <td>0.0</td>\n",
       "    </tr>\n",
       "    <tr>\n",
       "      <th>2</th>\n",
       "      <td>0.624</td>\n",
       "      <td>5.0</td>\n",
       "      <td>Full time course</td>\n",
       "      <td>No relevent experience</td>\n",
       "      <td>Graduate</td>\n",
       "      <td>Other</td>\n",
       "      <td>STEM</td>\n",
       "      <td>0.0</td>\n",
       "    </tr>\n",
       "    <tr>\n",
       "      <th>3</th>\n",
       "      <td>0.789</td>\n",
       "      <td>1.0</td>\n",
       "      <td>Other</td>\n",
       "      <td>No relevent experience</td>\n",
       "      <td>Graduate</td>\n",
       "      <td>Pvt Ltd</td>\n",
       "      <td>Business Degree</td>\n",
       "      <td>1.0</td>\n",
       "    </tr>\n",
       "    <tr>\n",
       "      <th>4</th>\n",
       "      <td>0.767</td>\n",
       "      <td>21.0</td>\n",
       "      <td>no_enrollment</td>\n",
       "      <td>Has relevent experience</td>\n",
       "      <td>Masters</td>\n",
       "      <td>Funded Startup</td>\n",
       "      <td>STEM</td>\n",
       "      <td>0.0</td>\n",
       "    </tr>\n",
       "  </tbody>\n",
       "</table>\n",
       "</div>"
      ],
      "text/plain": [
       "  city_development_index experience enrolled_university  \\\n",
       "0                   0.92       21.0       no_enrollment   \n",
       "1                  0.776       15.0       no_enrollment   \n",
       "2                  0.624        5.0    Full time course   \n",
       "3                  0.789        1.0               Other   \n",
       "4                  0.767       21.0       no_enrollment   \n",
       "\n",
       "       relevent_experience education_level    company_type major_discipline  \\\n",
       "0  Has relevent experience        Graduate           Other             STEM   \n",
       "1   No relevent experience        Graduate         Pvt Ltd             STEM   \n",
       "2   No relevent experience        Graduate           Other             STEM   \n",
       "3   No relevent experience        Graduate         Pvt Ltd  Business Degree   \n",
       "4  Has relevent experience         Masters  Funded Startup             STEM   \n",
       "\n",
       "  target  \n",
       "0    1.0  \n",
       "1    0.0  \n",
       "2    0.0  \n",
       "3    1.0  \n",
       "4    0.0  "
      ]
     },
     "execution_count": 78,
     "metadata": {},
     "output_type": "execute_result"
    }
   ],
   "source": [
    "new_df.head()"
   ]
  },
  {
   "cell_type": "markdown",
   "id": "6a08863b",
   "metadata": {},
   "source": [
    "#### Variável education_level"
   ]
  },
  {
   "cell_type": "code",
   "execution_count": 79,
   "id": "eed82c45",
   "metadata": {},
   "outputs": [
    {
     "data": {
      "image/png": "[encoded data removed]",
      "text/plain": [
       "<Figure size 432x288 with 1 Axes>"
      ]
     },
     "metadata": {
      "needs_background": "light"
     },
     "output_type": "display_data"
    }
   ],
   "source": [
    "# Plot\n",
    "sns.countplot(data = new_df.fillna('NaN'), x = 'education_level', alpha = 0.7, edgecolor = 'black')\n",
    "plt.xticks(rotation = 45)\n",
    "sns.despine()\n",
    "plt.xticks()\n",
    "bound=ax.get_xbound()\n",
    "ax=plt.gca()\n",
    "for p in ax.patches:\n",
    "    ax.annotate(f'\\n{p.get_height()}', (p.get_x()+0.4, p.get_height()), ha = 'center', color = 'black', size = 10)\n",
    "plt.title(\"Valores Ausentes da Variável education_level Antes do Processamento\\n\", fontsize = 15)\n",
    "plt.show()"
   ]
  },
  {
   "cell_type": "code",
   "execution_count": 80,
   "id": "a1e4c15b",
   "metadata": {},
   "outputs": [],
   "source": [
    "# Índice\n",
    "nan_index = new_df[(new_df['education_level'].isna())].index"
   ]
  },
  {
   "cell_type": "code",
   "execution_count": 81,
   "id": "8de1cc58",
   "metadata": {},
   "outputs": [],
   "source": [
    "# Imputação dos valores NaN com 'Other'\n",
    "new_df['education_level'][nan_index] = 'Other'"
   ]
  },
  {
   "cell_type": "code",
   "execution_count": 82,
   "id": "b66cc800",
   "metadata": {},
   "outputs": [
    {
     "data": {
      "image/png": "[encoded data removed]",
      "text/plain": [
       "<Figure size 432x288 with 1 Axes>"
      ]
     },
     "metadata": {
      "needs_background": "light"
     },
     "output_type": "display_data"
    }
   ],
   "source": [
    "# Plot\n",
    "sns.countplot(data = new_df.fillna('NaN'), x = 'education_level', alpha = 0.7, edgecolor = 'black')\n",
    "plt.xticks(rotation = 45)\n",
    "sns.despine()\n",
    "plt.xticks()\n",
    "bound=ax.get_xbound()\n",
    "ax=plt.gca()\n",
    "for p in ax.patches:\n",
    "    ax.annotate(f'\\n{p.get_height()}', (p.get_x()+0.4, p.get_height()), ha = 'center', color = 'black', size = 10)\n",
    "plt.title(\"Valores Ausentes da Variável education_level Após do Processamento\\n\", fontsize = 15)\n",
    "plt.show()"
   ]
  },
  {
   "cell_type": "code",
   "execution_count": 83,
   "id": "c5afdc64",
   "metadata": {},
   "outputs": [
    {
     "data": {
      "text/html": [
       "<div>\n",
       "<style scoped>\n",
       "    .dataframe tbody tr th:only-of-type {\n",
       "        vertical-align: middle;\n",
       "    }\n",
       "\n",
       "    .dataframe tbody tr th {\n",
       "        vertical-align: top;\n",
       "    }\n",
       "\n",
       "    .dataframe thead th {\n",
       "        text-align: right;\n",
       "    }\n",
       "</style>\n",
       "<table border=\"1\" class=\"dataframe\">\n",
       "  <thead>\n",
       "    <tr style=\"text-align: right;\">\n",
       "      <th></th>\n",
       "      <th>city_development_index</th>\n",
       "      <th>experience</th>\n",
       "      <th>enrolled_university</th>\n",
       "      <th>relevent_experience</th>\n",
       "      <th>education_level</th>\n",
       "      <th>company_type</th>\n",
       "      <th>major_discipline</th>\n",
       "      <th>target</th>\n",
       "    </tr>\n",
       "  </thead>\n",
       "  <tbody>\n",
       "    <tr>\n",
       "      <th>0</th>\n",
       "      <td>0.92</td>\n",
       "      <td>21.0</td>\n",
       "      <td>no_enrollment</td>\n",
       "      <td>Has relevent experience</td>\n",
       "      <td>Graduate</td>\n",
       "      <td>Other</td>\n",
       "      <td>STEM</td>\n",
       "      <td>1.0</td>\n",
       "    </tr>\n",
       "    <tr>\n",
       "      <th>1</th>\n",
       "      <td>0.776</td>\n",
       "      <td>15.0</td>\n",
       "      <td>no_enrollment</td>\n",
       "      <td>No relevent experience</td>\n",
       "      <td>Graduate</td>\n",
       "      <td>Pvt Ltd</td>\n",
       "      <td>STEM</td>\n",
       "      <td>0.0</td>\n",
       "    </tr>\n",
       "    <tr>\n",
       "      <th>2</th>\n",
       "      <td>0.624</td>\n",
       "      <td>5.0</td>\n",
       "      <td>Full time course</td>\n",
       "      <td>No relevent experience</td>\n",
       "      <td>Graduate</td>\n",
       "      <td>Other</td>\n",
       "      <td>STEM</td>\n",
       "      <td>0.0</td>\n",
       "    </tr>\n",
       "    <tr>\n",
       "      <th>3</th>\n",
       "      <td>0.789</td>\n",
       "      <td>1.0</td>\n",
       "      <td>Other</td>\n",
       "      <td>No relevent experience</td>\n",
       "      <td>Graduate</td>\n",
       "      <td>Pvt Ltd</td>\n",
       "      <td>Business Degree</td>\n",
       "      <td>1.0</td>\n",
       "    </tr>\n",
       "    <tr>\n",
       "      <th>4</th>\n",
       "      <td>0.767</td>\n",
       "      <td>21.0</td>\n",
       "      <td>no_enrollment</td>\n",
       "      <td>Has relevent experience</td>\n",
       "      <td>Masters</td>\n",
       "      <td>Funded Startup</td>\n",
       "      <td>STEM</td>\n",
       "      <td>0.0</td>\n",
       "    </tr>\n",
       "  </tbody>\n",
       "</table>\n",
       "</div>"
      ],
      "text/plain": [
       "  city_development_index experience enrolled_university  \\\n",
       "0                   0.92       21.0       no_enrollment   \n",
       "1                  0.776       15.0       no_enrollment   \n",
       "2                  0.624        5.0    Full time course   \n",
       "3                  0.789        1.0               Other   \n",
       "4                  0.767       21.0       no_enrollment   \n",
       "\n",
       "       relevent_experience education_level    company_type major_discipline  \\\n",
       "0  Has relevent experience        Graduate           Other             STEM   \n",
       "1   No relevent experience        Graduate         Pvt Ltd             STEM   \n",
       "2   No relevent experience        Graduate           Other             STEM   \n",
       "3   No relevent experience        Graduate         Pvt Ltd  Business Degree   \n",
       "4  Has relevent experience         Masters  Funded Startup             STEM   \n",
       "\n",
       "  target  \n",
       "0    1.0  \n",
       "1    0.0  \n",
       "2    0.0  \n",
       "3    1.0  \n",
       "4    0.0  "
      ]
     },
     "execution_count": 83,
     "metadata": {},
     "output_type": "execute_result"
    }
   ],
   "source": [
    "new_df.head()"
   ]
  },
  {
   "cell_type": "markdown",
   "id": "a5aeb6fb",
   "metadata": {},
   "source": [
    "#### Variável experience"
   ]
  },
  {
   "cell_type": "code",
   "execution_count": 84,
   "id": "181a76a1",
   "metadata": {},
   "outputs": [
    {
     "data": {
      "text/plain": [
       "21.0     3281\n",
       "5.0      1427\n",
       "4.0      1402\n",
       "3.0      1351\n",
       "6.0      1214\n",
       "2.0      1124\n",
       "1.0      1069\n",
       "7.0      1028\n",
       "10.0      982\n",
       "9.0       980\n",
       "8.0       802\n",
       "15.0      685\n",
       "11.0      664\n",
       "14.0      586\n",
       "16.0      506\n",
       "12.0      494\n",
       "13.0      399\n",
       "17.0      342\n",
       "19.0      304\n",
       "18.0      279\n",
       "20.0      148\n",
       "NaN        63\n",
       "Other      28\n",
       "Name: experience, dtype: int64"
      ]
     },
     "execution_count": 84,
     "metadata": {},
     "output_type": "execute_result"
    }
   ],
   "source": [
    "new_df['experience'].value_counts(dropna=False)"
   ]
  },
  {
   "cell_type": "code",
   "execution_count": 85,
   "id": "4c2002cb",
   "metadata": {},
   "outputs": [
    {
     "data": {
      "text/plain": [
       "experience                0.33\n",
       "city_development_index    0.00\n",
       "enrolled_university       0.00\n",
       "relevent_experience       0.00\n",
       "education_level           0.00\n",
       "company_type              0.00\n",
       "major_discipline          0.00\n",
       "target                    0.00\n",
       "dtype: float64"
      ]
     },
     "execution_count": 85,
     "metadata": {},
     "output_type": "execute_result"
    }
   ],
   "source": [
    "# Percentual de valores ausentes\n",
    "\n",
    "percent_missing = round((new_df.isnull().sum() / len(new_df) * 100).sort_values(ascending=False),2)\n",
    "percent_missing "
   ]
  },
  {
   "cell_type": "code",
   "execution_count": 86,
   "id": "27a09e2a",
   "metadata": {},
   "outputs": [
    {
     "data": {
      "text/plain": [
       "63"
      ]
     },
     "execution_count": 86,
     "metadata": {},
     "output_type": "execute_result"
    }
   ],
   "source": [
    "new_df['experience'].isnull().sum()"
   ]
  },
  {
   "cell_type": "code",
   "execution_count": 87,
   "id": "428ad82f",
   "metadata": {},
   "outputs": [
    {
     "data": {
      "text/plain": [
       "(19158, 8)"
      ]
     },
     "execution_count": 87,
     "metadata": {},
     "output_type": "execute_result"
    }
   ],
   "source": [
    "new_df.shape"
   ]
  },
  {
   "cell_type": "code",
   "execution_count": 88,
   "id": "03d73eb1",
   "metadata": {},
   "outputs": [],
   "source": [
    "new_df = new_df.dropna()"
   ]
  },
  {
   "cell_type": "code",
   "execution_count": 89,
   "id": "c1d7a7a0",
   "metadata": {},
   "outputs": [
    {
     "data": {
      "text/plain": [
       "city_development_index    0.0\n",
       "experience                0.0\n",
       "enrolled_university       0.0\n",
       "relevent_experience       0.0\n",
       "education_level           0.0\n",
       "company_type              0.0\n",
       "major_discipline          0.0\n",
       "target                    0.0\n",
       "dtype: float64"
      ]
     },
     "execution_count": 89,
     "metadata": {},
     "output_type": "execute_result"
    }
   ],
   "source": [
    "percent_missing = round((new_df.isnull().sum() / len(new_df) * 100).sort_values(ascending=False),2)\n",
    "percent_missing "
   ]
  },
  {
   "cell_type": "code",
   "execution_count": 90,
   "id": "96e3472f",
   "metadata": {
    "scrolled": true
   },
   "outputs": [
    {
     "data": {
      "image/png": "[encoded data removed]",
      "text/plain": [
       "<Figure size 1080x432 with 1 Axes>"
      ]
     },
     "metadata": {
      "needs_background": "light"
     },
     "output_type": "display_data"
    }
   ],
   "source": [
    "# Valores ausentes por coluna\n",
    "null_df = new_df.isna().sum().reset_index()\n",
    "\n",
    "# Figura\n",
    "ax = plt.figure(figsize = (15,6))\n",
    "\n",
    "# Barplot\n",
    "ax = sns.barplot(null_df['index'], null_df[0], palette = 'husl')\n",
    "plt.xlabel('Atributos', fontsize = 12)\n",
    "plt.ylabel('Contagem de Valores Ausentes', fontsize = 12)\n",
    "plt.xticks(rotation = 45)\n",
    "plt.title(\"Plot de Valores Ausentes\", fontsize = 15)\n",
    "\n",
    "for p in ax.patches:\n",
    "    ax.annotate(f'\\n{p.get_height()}', (p.get_x()+0.4, (p.get_height())), ha = 'center', color = 'black', size = 11)\n",
    "\n",
    "plt.show()"
   ]
  },
  {
   "cell_type": "markdown",
   "id": "48ea3312",
   "metadata": {},
   "source": [
    "### Ajustes Finais"
   ]
  },
  {
   "cell_type": "code",
   "execution_count": 91,
   "id": "13260ce0",
   "metadata": {},
   "outputs": [],
   "source": [
    "# Ajustando os dados\n",
    "new_df['enrolled_university'] = new_df['enrolled_university'].replace('no_enrollment', 'No enrollment')"
   ]
  },
  {
   "cell_type": "markdown",
   "id": "f72db453",
   "metadata": {},
   "source": [
    "## Relatório Final"
   ]
  },
  {
   "cell_type": "markdown",
   "id": "32d59b3b",
   "metadata": {},
   "source": [
    "Com base em nossa análise observamos que as variáveis mais relevantes para identificar um bom candidato são:\n",
    "\n",
    "- Índice de Desenvolvimento da cidade onde mora o candidato.\n",
    "- Tempo de experiência profissional.\n",
    "- Se está ou não matriculado em um curso universitário.\n",
    "- Se tem ou não experiência relevante.\n",
    "- O nível educacional.\n",
    "- O tipo de empresa que o candidato trabalhou ou trabalha atualmente.\n",
    "- A especialização na graduação (quando for o caso).\n",
    "\n",
    "Não são relevantes para a análise:\n",
    "\n",
    "- O ID do candidato.\n",
    "- O código da cidade do candidato.\n",
    "- O gênero.\n",
    "- A última vez que o candidato esteve empregado.\n",
    "- O tamanho da empresa (quando for o caso).\n",
    "- Total de horas de treimamento.\n",
    "\n",
    "\n",
    "**Recomendações do Analista de Dados**:\n",
    "\n",
    "- O RH pode desenvolver um método de coleta de dados para obter outros recursos a fim de melhorar a qualidade dos dados e tornar o trabalho de análise mais preciso.\n",
    "\n",
    "- O RH pode procurar candidatos que vêm de cidades com índice de desenvolvimento urbano mais baixo, sem experiência relevante, nível de educação superior e menor experiência de trabalho para ter maior chance de encontrar candidatos que estão procurando um emprego.\n",
    "\n",
    "- O RH pode tornar o treinamento mais compacto porque muitas pessoas não precisam de muito tempo para concluir o treinamento."
   ]
  },
  {
   "cell_type": "code",
   "execution_count": null,
   "id": "812240f8",
   "metadata": {},
   "outputs": [],
   "source": []
  }
 ],
 "metadata": {
  "kernelspec": {
   "display_name": "Python 3 (ipykernel)",
   "language": "python",
   "name": "python3"
  },
  "language_info": {
   "codemirror_mode": {
    "name": "ipython",
    "version": 3
   },
   "file_extension": ".py",
   "mimetype": "text/x-python",
   "name": "python",
   "nbconvert_exporter": "python",
   "pygments_lexer": "ipython3",
   "version": "3.9.12"
  }
 },
 "nbformat": 4,
 "nbformat_minor": 5
}
